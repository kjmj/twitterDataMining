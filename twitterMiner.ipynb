{
 "cells": [
  {
   "cell_type": "markdown",
   "metadata": {},
   "source": [
    "# HW1 : Data Science in Twitter Data\n",
    "Ken Morton"
   ]
  },
  {
   "cell_type": "markdown",
   "metadata": {},
   "source": [
    "## Data Collection: Download Twitter Data using API"
   ]
  },
  {
   "cell_type": "markdown",
   "metadata": {},
   "source": [
    "* As the first step of Data Science process, let's collect some twitter data. Choose a keyword and search tweets containing the keyword by using Twitter search API, and then download the searched tweets (including the meta data that the Search API returns) in a file. It is recommended that the number of searched tweets should be at least 300.\n",
    "* Store the tweets you downloaded into a local file (txt file or json file) "
   ]
  },
  {
   "cell_type": "code",
   "execution_count": 41,
   "metadata": {},
   "outputs": [
    {
     "name": "stdout",
     "output_type": "stream",
     "text": [
      "Retrieving tweets...\n",
      "Finished retrieving  397  tweets, now writing to file.\n"
     ]
    }
   ],
   "source": [
    "import twitter\n",
    "import json\n",
    "from urllib.parse import unquote\n",
    "\n",
    "# Function used to login to the twitter API\n",
    "def oauthLogin():\n",
    "    # Go to http://twitter.com/apps/new to create an app and get values\n",
    "    # for these credentials that you'll need to provide in place of these\n",
    "    # empty string values that are defined as placeholders.\n",
    "    # See https://dev.twitter.com/docs/auth/oauth for more information \n",
    "    # on Twitter's OAuth implementation.\n",
    "    \n",
    "    CONSUMER_KEY = 'INSERT_API_KEY_HERE'\n",
    "    CONSUMER_SECRET = 'INSERT_API_SECRET_KEY_HERE'\n",
    "    OAUTH_TOKEN = 'INSERT_ACCESS_TOKEN_HERE'\n",
    "    OAUTH_TOKEN_SECRET = 'INSERT_ACCESS_TOKEN_SECRET_HERE'\n",
    "    \n",
    "    auth = twitter.oauth.OAuth(OAUTH_TOKEN, OAUTH_TOKEN_SECRET,\n",
    "                               CONSUMER_KEY, CONSUMER_SECRET)\n",
    "    \n",
    "    twitterAPI = twitter.Twitter(auth=auth)\n",
    "    return twitterAPI\n",
    "\n",
    "# Login to the twitter API\n",
    "twitterAPI = oauthLogin();\n",
    "\n",
    "query = 'celtics' # The term to search twitter with\n",
    "count = 100 # Number of tweets to retrieve per batch\n",
    "tweetCount = 0 # Total number of tweets retrieved\n",
    "\n",
    "print(\"Retrieving tweets...\")\n",
    "\n",
    "# Search twitter and get statuses\n",
    "searchResults = twitterAPI.search.tweets(q=query, count=count)\n",
    "statuses = searchResults['statuses']\n",
    "\n",
    "# Iterate through 3 more batches of results by following the cursor\n",
    "for _ in range(3):\n",
    "    try:\n",
    "        nextResults = searchResults['search_metadata']['next_results']\n",
    "    except KeyError as e: # No more results when next_results doesn't exist\n",
    "        break\n",
    "\n",
    "    # Create a dictionary from next_results, which has the following form:\n",
    "    # ?max_id=847960489447628799&q=%23RIPSelena&count=100&include_entities=1\n",
    "    kwargs = dict([ kv.split('=') for kv in unquote(nextResults[1:]).split(\"&\") ])\n",
    "\n",
    "    searchResults = twitterAPI.search.tweets(**kwargs)\n",
    "    statuses += searchResults['statuses']\n",
    "\n",
    "# Determine how many tweets were retrieved\n",
    "tweetCount = len(statuses)\n",
    "print(\"Finished retrieving \", tweetCount, \" tweets, now writing to file.\");\n",
    "\n",
    "# Save to a file\n",
    "with open('twitterData.json', 'w') as outfile:  \n",
    "    json.dump(statuses, outfile, indent=4)"
   ]
  },
  {
   "cell_type": "code",
   "execution_count": 42,
   "metadata": {},
   "outputs": [],
   "source": [
    "### Report  statistics about the tweets you collected "
   ]
  },
  {
   "cell_type": "code",
   "execution_count": 43,
   "metadata": {
    "scrolled": true
   },
   "outputs": [
    {
     "name": "stdout",
     "output_type": "stream",
     "text": [
      "What keyword did you choose?:  celtics\n"
     ]
    }
   ],
   "source": [
    "print(\"What keyword did you choose?: \", query)"
   ]
  },
  {
   "cell_type": "code",
   "execution_count": 44,
   "metadata": {},
   "outputs": [
    {
     "name": "stdout",
     "output_type": "stream",
     "text": [
      "The total number of tweets collected:  397\n"
     ]
    }
   ],
   "source": [
    "print(\"The total number of tweets collected: \", tweetCount)"
   ]
  },
  {
   "cell_type": "markdown",
   "metadata": {},
   "source": [
    "# Data Exploration: Exploring the Tweets and Tweet Entities\n",
    "\n",
    "**(1) Word Count:** \n",
    "* Load the tweets you collected in the local file (txt or json)\n",
    "* compute the frequencies of the words being used in these tweets. \n",
    "* Plot a table of the top 30 most-frequent words with their counts"
   ]
  },
  {
   "cell_type": "code",
   "execution_count": 45,
   "metadata": {},
   "outputs": [
    {
     "name": "stdout",
     "output_type": "stream",
     "text": [
      "+-----------------+-------+\n",
      "|       Word      | Count |\n",
      "+-----------------+-------+\n",
      "|       the       |  316  |\n",
      "|        RT       |  283  |\n",
      "|     Celtics     |  180  |\n",
      "|        in       |  167  |\n",
      "|        to       |  115  |\n",
      "|        a        |   98  |\n",
      "|       The       |   93  |\n",
      "|        on       |   86  |\n",
      "|       are       |   81  |\n",
      "|       they      |   79  |\n",
      "|        be       |   78  |\n",
      "|       this      |   78  |\n",
      "|      would      |   73  |\n",
      "|     Western     |   68  |\n",
      "|        if       |   67  |\n",
      "|        of       |   66  |\n",
      "|       not       |   64  |\n",
      "|       were      |   64  |\n",
      "|      43-31      |   61  |\n",
      "|     Celtics,    |   60  |\n",
      "|    currently    |   59  |\n",
      "|     playoffs    |   58  |\n",
      "|  @LegionHoops:  |   57  |\n",
      "|   Interesting:  |   57  |\n",
      "|       who       |   57  |\n",
      "|     season,     |   57  |\n",
      "|       Co…       |   57  |\n",
      "|  @RobGronkowski |   54  |\n",
      "|    @celtics:    |   53  |\n",
      "| Congratulations |   49  |\n",
      "+-----------------+-------+\n"
     ]
    }
   ],
   "source": [
    "import operator \n",
    "import json\n",
    "from collections import Counter\n",
    "from prettytable import PrettyTable\n",
    "\n",
    "# Read in the tweet data\n",
    "with open('twitterData.json') as file:\n",
    "    twitterData = json.loads(file.read())\n",
    "\n",
    "# Obtain the texts of the tweets\n",
    "statusTexts = [status.get('text') \n",
    "                for status in twitterData]\n",
    "\n",
    "# Obtain list of all the words in the twitter statuses\n",
    "words = [word \n",
    "         for t in statusTexts \n",
    "             for word in t.split()]\n",
    "\n",
    "# Pass our words to a Counter\n",
    "counter = Counter(words) \n",
    "  \n",
    "# Get the most common words\n",
    "mostCommonWords = counter.most_common(30)\n",
    "\n",
    "# Print our data to a nice table\n",
    "mostCommonWordsTable = PrettyTable()\n",
    "mostCommonWordsTable.field_names = [\"Word\", \"Count\"]\n",
    "\n",
    "for word in mostCommonWords:\n",
    "    mostCommonWordsTable.add_row([word[0], word[1]])\n",
    "\n",
    "print(mostCommonWordsTable)"
   ]
  },
  {
   "cell_type": "markdown",
   "metadata": {},
   "source": [
    "** (2) Find the most popular tweets in your collection of tweets**\n",
    "\n",
    "Please plot a table of the top 10 most-retweeted tweets in your collection, i.e., the tweets with the largest number of retweet counts.\n"
   ]
  },
  {
   "cell_type": "code",
   "execution_count": 46,
   "metadata": {},
   "outputs": [
    {
     "name": "stdout",
     "output_type": "stream",
     "text": [
      "+-----------------------------------------------------------------------------+----------+\n",
      "|                                    Tweet                                    | Retweets |\n",
      "+-----------------------------------------------------------------------------+----------+\n",
      "| RT @LVPibai: Lo digo a día 22 de marzo para que le deis retuit hoy y cuando |   6819   |\n",
      "|       no acierte nada.   Campeón de Champions: Manchester City  Campe…      |          |\n",
      "| RT @LVPibai: Lo digo a día 22 de marzo para que le deis retuit hoy y cuando |   6819   |\n",
      "|       no acierte nada.   Campeón de Champions: Manchester City  Campe…      |          |\n",
      "|  RT @SLAMonline: Devin Booker was only 20 when he dropped 70 on the Celtics |   4449   |\n",
      "|                           https://t.co/eGqzEnEIFC                           |          |\n",
      "|  RT @SLAMonline: Devin Booker was only 20 when he dropped 70 on the Celtics |   4449   |\n",
      "|                           https://t.co/eGqzEnEIFC                           |          |\n",
      "|  RT @SLAMonline: Devin Booker was only 20 when he dropped 70 on the Celtics |   4449   |\n",
      "|                           https://t.co/eGqzEnEIFC                           |          |\n",
      "|  RT @SLAMonline: Devin Booker was only 20 when he dropped 70 on the Celtics |   4449   |\n",
      "|                           https://t.co/eGqzEnEIFC                           |          |\n",
      "|  RT @SLAMonline: Devin Booker was only 20 when he dropped 70 on the Celtics |   4449   |\n",
      "|                           https://t.co/eGqzEnEIFC                           |          |\n",
      "|  RT @SLAMonline: Devin Booker was only 20 when he dropped 70 on the Celtics |   4449   |\n",
      "|                           https://t.co/eGqzEnEIFC                           |          |\n",
      "|  RT @SLAMonline: Devin Booker was only 20 when he dropped 70 on the Celtics |   4449   |\n",
      "|                           https://t.co/eGqzEnEIFC                           |          |\n",
      "|  RT @SLAMonline: Devin Booker was only 20 when he dropped 70 on the Celtics |   4449   |\n",
      "|                           https://t.co/eGqzEnEIFC                           |          |\n",
      "+-----------------------------------------------------------------------------+----------+\n"
     ]
    }
   ],
   "source": [
    "from operator import itemgetter\n",
    "import textwrap\n",
    "\n",
    "# Get tweet and its retweet count\n",
    "retweetData = [{\"tweet\": item.get('text'), \"retweets\": int(item.get('retweet_count'))}\n",
    "               for item in twitterData]\n",
    "\n",
    "# Sort tweets in descending order by number of retweets\n",
    "sortedDecending = sorted(retweetData, key=itemgetter(\"retweets\"), reverse=True)\n",
    "\n",
    "# Print our data to a nice table\n",
    "retweetTable = PrettyTable()\n",
    "retweetTable.field_names = [\"Tweet\", \"Retweets\"]\n",
    "\n",
    "for t in sortedDecending[:10]:\n",
    "    retweetTable.add_row([textwrap.fill(t[\"tweet\"], 75), t[\"retweets\"]])\n",
    "\n",
    "print(retweetTable)"
   ]
  },
  {
   "cell_type": "markdown",
   "metadata": {},
   "source": [
    "**(3) Find the most popular Tweet Entities in your collection of tweets**\n",
    "\n",
    "Please plot the top 10 most-frequent hashtags and top 10 most-mentioned users in your collection of tweets."
   ]
  },
  {
   "cell_type": "code",
   "execution_count": 47,
   "metadata": {},
   "outputs": [
    {
     "name": "stdout",
     "output_type": "stream",
     "text": [
      "+----------------------+-------+\n",
      "| Most Common Hashtags | Count |\n",
      "+----------------------+-------+\n",
      "|       Patriots       |   10  |\n",
      "|     Autographed      |   9   |\n",
      "|    RobGronkowski     |   9   |\n",
      "|      GronkSpike      |   9   |\n",
      "|       Celtics        |   4   |\n",
      "|       CUsRise        |   2   |\n",
      "|         NBA          |   1   |\n",
      "|      Betonline       |   1   |\n",
      "|     handicapper      |   1   |\n",
      "|     handicappers     |   1   |\n",
      "+----------------------+-------+\n",
      "+----------------------+-------+\n",
      "| Most Mentioned Users | Count |\n",
      "+----------------------+-------+\n",
      "|       celtics        |   72  |\n",
      "|     LegionHoops      |   58  |\n",
      "|    RobGronkowski     |   54  |\n",
      "|      FlyByKnite      |   30  |\n",
      "|      SLAMonline      |   26  |\n",
      "|        spurs         |   10  |\n",
      "|     EmperorBigD      |   9   |\n",
      "|     _abbyphipps_     |   8   |\n",
      "|    HebertofRiffs     |   8   |\n",
      "|     SportsDen451     |   8   |\n",
      "+----------------------+-------+\n"
     ]
    }
   ],
   "source": [
    "# Get hashtags\n",
    "hashtags = [hashtag.get('text')\n",
    "            for status in twitterData\n",
    "                for hashtag in status.get('entities').get('hashtags')]\n",
    "\n",
    "# Get user mentions\n",
    "userMentions = [userMention.get('screen_name')\n",
    "                for status in twitterData\n",
    "                    for userMention in status.get('entities').get('user_mentions')]\n",
    "\n",
    "# Get the most common hashtags and user mentions\n",
    "mostCommonHashtags = Counter(hashtags).most_common(10)\n",
    "mostMentionedUsers = Counter(userMentions).most_common(10)\n",
    "\n",
    "# Print our hashtag data to a nice table\n",
    "hashtagTable = PrettyTable()\n",
    "hashtagTable.field_names = [\"Most Common Hashtags\", \"Count\"]\n",
    "\n",
    "for h in mostCommonHashtags:\n",
    "    hashtagTable.add_row([h[0], h[1]])\n",
    "\n",
    "print(hashtagTable)\n",
    "\n",
    "# Print our user data to a nice table\n",
    "mentionedUserTable = PrettyTable()\n",
    "mentionedUserTable.field_names = [\"Most Mentioned Users\", \"Count\"]\n",
    "\n",
    "for u in mostMentionedUsers:\n",
    "    mentionedUserTable.add_row([u[0], u[1]])\n",
    "\n",
    "print(mentionedUserTable)"
   ]
  },
  {
   "cell_type": "markdown",
   "metadata": {},
   "source": [
    "Plot a histogram of the number of user mentions in the list using the following bins."
   ]
  },
  {
   "cell_type": "code",
   "execution_count": 48,
   "metadata": {},
   "outputs": [
    {
     "data": {
      "image/png": "[encoded data removed]",
      "text/plain": [
       "<Figure size 432x288 with 1 Axes>"
      ]
     },
     "metadata": {
      "needs_background": "light"
     },
     "output_type": "display_data"
    }
   ],
   "source": [
    "import matplotlib.pyplot as plt\n",
    "%matplotlib inline\n",
    "\n",
    "# Our histogram bins\n",
    "bins = [0, 10, 20, 30, 40, 50, 100]\n",
    "\n",
    "# Add a title and axis labels\n",
    "plt.title(\"User Mentions Histogram\")\n",
    "plt.ylabel(\"Frequency\")\n",
    "plt.xlabel(\"User Mentions\")\n",
    "\n",
    "# Draw a histogram\n",
    "userMentionCounter = Counter(userMentions)\n",
    "plt.hist(list(userMentionCounter.values()), bins)\n",
    "\n",
    "plt.show()"
   ]
  },
  {
   "cell_type": "raw",
   "metadata": {},
   "source": [
    "\n",
    " ** (optional task for fun) Getting \"All\" friends (followees) and \"All\" followers of a popular user in the tweets**"
   ]
  },
  {
   "cell_type": "markdown",
   "metadata": {},
   "source": [
    "* choose a popular twitter user who has many followers in your collection of tweets.\n",
    "* Get the list of all friends and all followers of the twitter user.\n",
    "* Plot 20 out of the followers, plot their ID numbers and screen names in a table.\n",
    "* Plot 20 out of the friends (if the user has more than 20 friends), plot their ID numbers and screen names in a table."
   ]
  },
  {
   "cell_type": "code",
   "execution_count": 49,
   "metadata": {},
   "outputs": [
    {
     "name": "stdout",
     "output_type": "stream",
     "text": [
      "Getting followers of  spurs\n",
      "20 followers of the user  spurs\n",
      "+---------------------+-----------------+\n",
      "|      ID Number      |   Screen Name   |\n",
      "+---------------------+-----------------+\n",
      "| 1093335341241696290 |    Ethan Gunn   |\n",
      "| 1110235405431926784 |   Vince Louis   |\n",
      "| 1109336358416535552 |   MysticJypsie  |\n",
      "| 1110233779963129856 |  Froger Antoine |\n",
      "|      3363458800     |      Fabien     |\n",
      "| 1109520959051124737 |    alin.bjnr    |\n",
      "|  899990296167153664 |     Dany El     |\n",
      "|      357377298      |  polycap otieno |\n",
      "|      3036179636     |    MissBunny    |\n",
      "| 1055970677809909760 |  Smad jr Dieng  |\n",
      "| 1110222347011850240 |   Pete Ramirez  |\n",
      "| 1108547355576553472 |   jarrettjhmm   |\n",
      "| 1110225749561217025 |      David      |\n",
      "|      238341020      |   Will Custer   |\n",
      "|      2882620512     |   Edman Galvez  |\n",
      "|  943571178429566976 |     Manye 🅱️    |\n",
      "| 1104943712419958784 |  Sandra Talley  |\n",
      "|      1015011876     |    FeuerLynx    |\n",
      "| 1109966940632768512 | diamondprincess |\n",
      "| 1106029855710289926 |   bucasbeon69   |\n",
      "+---------------------+-----------------+\n",
      "Getting friends of  spurs\n",
      "20 friends of the user  spurs\n",
      "+------------+---------------------+\n",
      "| ID Number  |     Screen Name     |\n",
      "+------------+---------------------+\n",
      "| 276243389  |      Malik Rose     |\n",
      "| 2445704863 |  San Antonio Parks  |\n",
      "| 160632336  | Johnny P. Hernandez |\n",
      "| 231029205  |    IG: dlamarc33    |\n",
      "| 205413225  |    Zach Randolph    |\n",
      "|  70579753  |     Drew Eubanks    |\n",
      "|  35675192  |   Quincy Pondexter  |\n",
      "| 195790054  |      Dan Weiss      |\n",
      "|  23773465  | Mayor Ron Nirenberg |\n",
      "| 392394776  |    Union Metrics    |\n",
      "|  26787673  |      Coca-Cola      |\n",
      "| 1244480622 |      Frost Bank     |\n",
      "|  43658360  |    DeMar DeRozan    |\n",
      "| 1206110700 | River City Rockfest |\n",
      "| 288535111  |    Chimezie Metu™   |\n",
      "| 1470978146 |   Lonnie Walker IV  |\n",
      "|  17087295  |  Trinity University |\n",
      "| 1101196741 |   BexarBiblioTech   |\n",
      "|  16180874  |     Sneaker News    |\n",
      "| 778313694  |         SWBC        |\n",
      "+------------+---------------------+\n"
     ]
    }
   ],
   "source": [
    "# Get users and their follower count\n",
    "userAndFollowers = [{\"screenName\": item.get('user').get(\"screen_name\"), \"followersCount\": int(item.get('user').get('followers_count'))}\n",
    "                    for item in twitterData]\n",
    "\n",
    "# Get the user with the largest number of followers\n",
    "userWithMostFollowers = max(userAndFollowers, key=lambda x:x['followersCount'])\n",
    "\n",
    "# The user whose followers and friends we will search for\n",
    "user = userWithMostFollowers['screenName']\n",
    "\n",
    "count = 20 # Number of followers/friends to get\n",
    "\n",
    "# Search twitter for this users followers\n",
    "print(\"Getting followers of \", user)\n",
    "followers = twitterAPI.followers.list(screen_name=user, count=count)\n",
    "\n",
    "# Get info about this users followers\n",
    "followersInfo = [{\"idNumber\": item.get(\"id\"), \"screenName\": item.get(\"name\")}\n",
    "                for item in followers['users']]\n",
    "\n",
    "# Print our data to a nice table\n",
    "followersTable = PrettyTable()\n",
    "print(\"20 followers of the user \", user)\n",
    "followersTable.field_names = [\"ID Number\", \"Screen Name\"]\n",
    "\n",
    "for f in followersInfo:\n",
    "    followersTable.add_row([f[\"idNumber\"], f[\"screenName\"]])\n",
    "\n",
    "print(followersTable)\n",
    "\n",
    "\n",
    "\n",
    "# Search twitter for this users friends\n",
    "print(\"Getting friends of \", user)\n",
    "friends = twitterAPI.friends.list(screen_name=user, count=count)\n",
    "\n",
    "# Get info about this users friends\n",
    "friendsInfo = [{\"idNumber\": item.get(\"id\"), \"screenName\": item.get(\"name\")}\n",
    "                for item in friends['users']]\n",
    "\n",
    "# Print our data to a nice table\n",
    "friendsTable = PrettyTable()\n",
    "print(\"20 friends of the user \", user)\n",
    "friendsTable.field_names = [\"ID Number\", \"Screen Name\"]\n",
    "\n",
    "for f in friendsInfo:\n",
    "    friendsTable.add_row([f[\"idNumber\"], f[\"screenName\"]])\n",
    "\n",
    "print(friendsTable)"
   ]
  },
  {
   "cell_type": "markdown",
   "metadata": {},
   "source": [
    "Plot a scatter plot comparing friends and followers"
   ]
  },
  {
   "cell_type": "code",
   "execution_count": 50,
   "metadata": {},
   "outputs": [
    {
     "data": {
      "image/png": "[encoded data removed]",
      "text/plain": [
       "<Figure size 800x480 with 1 Axes>"
      ]
     },
     "metadata": {},
     "output_type": "display_data"
    }
   ],
   "source": [
    "import np as np\n",
    "from numpy import array\n",
    "from matplotlib.pyplot import figure\n",
    "\n",
    "# Get number of followers for each tweet we collected\n",
    "numFollowers = [int(status.get('user').get('followers_count'))\n",
    "                for status in twitterData]\n",
    "\n",
    "# Get number of friends for each tweet we collected\n",
    "numFriends = [int(status.get('user').get('friends_count'))\n",
    "              for status in twitterData]\n",
    "\n",
    "# Set figure size\n",
    "figure(num=None, figsize=(10, 6), dpi=80, facecolor='w', edgecolor='k')\n",
    "\n",
    "# Plot a scatter plot\n",
    "plt.title(\"Twitter: Followers vs Friends\")\n",
    "plt.xlabel(\"Number of Friends\")\n",
    "plt.ylabel(\"Number of Followers\")\n",
    "\n",
    "plt.scatter(numFriends, numFollowers)\n",
    "plt.show()"
   ]
  },
  {
   "cell_type": "code",
   "execution_count": null,
   "metadata": {},
   "outputs": [],
   "source": []
  }
 ],
 "metadata": {
  "anaconda-cloud": {},
  "kernelspec": {
   "display_name": "Python 3",
   "language": "python",
   "name": "python3"
  },
  "language_info": {
   "codemirror_mode": {
    "name": "ipython",
    "version": 3
   },
   "file_extension": ".py",
   "mimetype": "text/x-python",
   "name": "python",
   "nbconvert_exporter": "python",
   "pygments_lexer": "ipython3",
   "version": "3.7.2"
  }
 },
 "nbformat": 4,
 "nbformat_minor": 1
}
