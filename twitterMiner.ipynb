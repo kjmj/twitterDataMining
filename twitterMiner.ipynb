{
 "cells": [
  {
   "cell_type": "markdown",
   "metadata": {},
   "source": [
    "# HW1 : Data Science in Twitter Data\n",
    "Ken Morton"
   ]
  },
  {
   "cell_type": "markdown",
   "metadata": {},
   "source": [
    "## Data Collection: Download Twitter Data using API"
   ]
  },
  {
   "cell_type": "markdown",
   "metadata": {},
   "source": [
    "* As the first step of Data Science process, let's collect some twitter data. Choose a keyword and search tweets containing the keyword by using Twitter search API, and then download the searched tweets (including the meta data that the Search API returns) in a file. It is recommended that the number of searched tweets should be at least 300.\n",
    "* Store the tweets you downloaded into a local file (txt file or json file) "
   ]
  },
  {
   "cell_type": "code",
   "execution_count": 1,
   "metadata": {},
   "outputs": [
    {
     "name": "stdout",
     "output_type": "stream",
     "text": [
      "Retrieving tweets...\n",
      "Finished retrieving  389  tweets, now writing to file.\n"
     ]
    }
   ],
   "source": [
    "import twitter\n",
    "import json\n",
    "from urllib.parse import unquote\n",
    "\n",
    "# Function used to login to the twitter API\n",
    "def oauthLogin():\n",
    "    # Go to http://twitter.com/apps/new to create an app and get values\n",
    "    # for these credentials that you'll need to provide in place of these\n",
    "    # empty string values that are defined as placeholders.\n",
    "    # See https://dev.twitter.com/docs/auth/oauth for more information \n",
    "    # on Twitter's OAuth implementation.\n",
    "    \n",
    "    CONSUMER_KEY = 'INSERT_API_KEY_HERE'\n",
    "    CONSUMER_SECRET = 'INSERT_API_SECRET_KEY_HERE'\n",
    "    OAUTH_TOKEN = 'INSERT_ACCESS_TOKEN_HERE'\n",
    "    OAUTH_TOKEN_SECRET = 'INSERT_ACCESS_TOKEN_SECRET_HERE'\n",
    "    \n",
    "    auth = twitter.oauth.OAuth(OAUTH_TOKEN, OAUTH_TOKEN_SECRET,\n",
    "                               CONSUMER_KEY, CONSUMER_SECRET)\n",
    "    \n",
    "    twitterAPI = twitter.Twitter(auth=auth)\n",
    "    return twitterAPI\n",
    "\n",
    "# Login to the twitter API\n",
    "twitterAPI = oauthLogin();\n",
    "\n",
    "query = 'boston' # The term to search twitter with\n",
    "count = 100 # Number of tweets to retrieve per batch\n",
    "tweetCount = 0 # Total number of tweets retrieved\n",
    "\n",
    "print(\"Retrieving tweets...\")\n",
    "\n",
    "# Search twitter and get statuses\n",
    "searchResults = twitterAPI.search.tweets(q=query, count=count)\n",
    "statuses = searchResults['statuses']\n",
    "\n",
    "# Iterate through 3 more batches of results by following the cursor\n",
    "for _ in range(3):\n",
    "    try:\n",
    "        nextResults = searchResults['search_metadata']['next_results']\n",
    "    except KeyError as e: # No more results when next_results doesn't exist\n",
    "        break\n",
    "\n",
    "    # Create a dictionary from next_results, which has the following form:\n",
    "    # ?max_id=847960489447628799&q=%23RIPSelena&count=100&include_entities=1\n",
    "    kwargs = dict([ kv.split('=') for kv in unquote(nextResults[1:]).split(\"&\") ])\n",
    "\n",
    "    searchResults = twitterAPI.search.tweets(**kwargs)\n",
    "    statuses += searchResults['statuses']\n",
    "\n",
    "# Determine how many tweets were retrieved\n",
    "tweetCount = len(statuses)\n",
    "print(\"Finished retrieving \", tweetCount, \" tweets, now writing to file.\");\n",
    "\n",
    "# Save to a file\n",
    "with open('twitterData.json', 'w') as outfile:  \n",
    "    json.dump(statuses, outfile, indent=4)"
   ]
  },
  {
   "cell_type": "code",
   "execution_count": 2,
   "metadata": {},
   "outputs": [],
   "source": [
    "### Report  statistics about the tweets you collected "
   ]
  },
  {
   "cell_type": "code",
   "execution_count": 3,
   "metadata": {
    "scrolled": true
   },
   "outputs": [
    {
     "name": "stdout",
     "output_type": "stream",
     "text": [
      "What keyword did you choose?:  boston\n"
     ]
    }
   ],
   "source": [
    "print(\"What keyword did you choose?: \", query)"
   ]
  },
  {
   "cell_type": "code",
   "execution_count": 4,
   "metadata": {},
   "outputs": [
    {
     "name": "stdout",
     "output_type": "stream",
     "text": [
      "The total number of tweets collected:  389\n"
     ]
    }
   ],
   "source": [
    "print(\"The total number of tweets collected: \", tweetCount)"
   ]
  },
  {
   "cell_type": "markdown",
   "metadata": {},
   "source": [
    "# Data Exploration: Exploring the Tweets and Tweet Entities\n",
    "\n",
    "**(1) Word Count:** \n",
    "* Load the tweets you collected in the local file (txt or json)\n",
    "* compute the frequencies of the words being used in these tweets. \n",
    "* Plot a table of the top 30 most-frequent words with their counts"
   ]
  },
  {
   "cell_type": "code",
   "execution_count": 5,
   "metadata": {},
   "outputs": [
    {
     "name": "stdout",
     "output_type": "stream",
     "text": [
      "+----------------+-------+\n",
      "|      Word      | Count |\n",
      "+----------------+-------+\n",
      "|       RT       |  201  |\n",
      "|      the       |  170  |\n",
      "|     Boston     |  148  |\n",
      "|       to       |  145  |\n",
      "|       in       |  103  |\n",
      "|       a        |   99  |\n",
      "|      and       |   85  |\n",
      "|       of       |   69  |\n",
      "|       on       |   59  |\n",
      "|      for       |   52  |\n",
      "|       be       |   45  |\n",
      "|       I        |   45  |\n",
      "|   Mozambique   |   40  |\n",
      "|       is       |   40  |\n",
      "|       at       |   37  |\n",
      "|      been      |   35  |\n",
      "|       by       |   34  |\n",
      "|      down      |   33  |\n",
      "|     first      |   33  |\n",
      "|       go       |   32  |\n",
      "|       as       |   31  |\n",
      "|      from      |   31  |\n",
      "|      you       |   31  |\n",
      "|      city      |   30  |\n",
      "| @EricHolthaus: |   29  |\n",
      "|     having     |   29  |\n",
      "|   completely   |   29  |\n",
      "|     Beira,     |   28  |\n",
      "|     “will      |   28  |\n",
      "|    history     |   28  |\n",
      "+----------------+-------+\n"
     ]
    }
   ],
   "source": [
    "import operator \n",
    "import json\n",
    "from collections import Counter\n",
    "from prettytable import PrettyTable\n",
    "\n",
    "# Read in the tweet data\n",
    "with open('twitterData.json') as file:\n",
    "    twitterData = json.loads(file.read())\n",
    "\n",
    "# Obtain the texts of the tweets\n",
    "statusTexts = [status.get('text') \n",
    "                for status in twitterData]\n",
    "\n",
    "# Obtain list of all the words in the twitter statuses\n",
    "words = [word \n",
    "         for t in statusTexts \n",
    "             for word in t.split()]\n",
    "\n",
    "# Pass our words to a Counter\n",
    "counter = Counter(words) \n",
    "  \n",
    "# Get the most common words\n",
    "mostCommonWords = counter.most_common(30)\n",
    "\n",
    "# Print our data to a nice table\n",
    "mostCommonWordsTable = PrettyTable()\n",
    "mostCommonWordsTable.field_names = [\"Word\", \"Count\"]\n",
    "\n",
    "for word in mostCommonWords:\n",
    "    mostCommonWordsTable.add_row([word[0], word[1]])\n",
    "\n",
    "print(mostCommonWordsTable)"
   ]
  },
  {
   "cell_type": "markdown",
   "metadata": {},
   "source": [
    "** (2) Find the most popular tweets in your collection of tweets**\n",
    "\n",
    "Please plot a table of the top 10 most-retweeted tweets in your collection, i.e., the tweets with the largest number of retweet counts.\n"
   ]
  },
  {
   "cell_type": "code",
   "execution_count": 6,
   "metadata": {},
   "outputs": [
    {
     "name": "stdout",
     "output_type": "stream",
     "text": [
      "+-----------------------------------------------------------------------------+----------+\n",
      "|                                    Tweet                                    | Retweets |\n",
      "+-----------------------------------------------------------------------------+----------+\n",
      "|   RT @ArianaGrande: i am still a basketcase and cannot believe any of this  |   7442   |\n",
      "|     shit is real. i am so grateful. what a beautiful thing. thanks a m…     |          |\n",
      "| RT @BillSimmons: Gronk  3-Time champ Top-5 Patriot ever Best tight end I’ve |   4031   |\n",
      "|       ever seen Incredible big game guy One of the most lovable Bosto…      |          |\n",
      "| RT @RedSox: A couple of retired Boston sports legends and champs.   Thanks, |   1726   |\n",
      "|                        Gronk! https://t.co/JfabUDVCBo                       |          |\n",
      "|   RT @BeckyLynchWWE: Boston, let’s celebrate together, shall we? Cause The  |   1284   |\n",
      "|              Man is coming round. #Raw https://t.co/jUwj4WjYwl              |          |\n",
      "|   RT @BeckyLynchWWE: Boston, let’s celebrate together, shall we? Cause The  |   1284   |\n",
      "|              Man is coming round. #Raw https://t.co/jUwj4WjYwl              |          |\n",
      "|   RT @BeckyLynchWWE: Boston, let’s celebrate together, shall we? Cause The  |   1284   |\n",
      "|              Man is coming round. #Raw https://t.co/jUwj4WjYwl              |          |\n",
      "|   RT @BeckyLynchWWE: Boston, let’s celebrate together, shall we? Cause The  |   1284   |\n",
      "|              Man is coming round. #Raw https://t.co/jUwj4WjYwl              |          |\n",
      "|   RT @BeckyLynchWWE: Boston, let’s celebrate together, shall we? Cause The  |   1284   |\n",
      "|              Man is coming round. #Raw https://t.co/jUwj4WjYwl              |          |\n",
      "|   RT @BeckyLynchWWE: Boston, let’s celebrate together, shall we? Cause The  |   1284   |\n",
      "|              Man is coming round. #Raw https://t.co/jUwj4WjYwl              |          |\n",
      "|   RT @BeckyLynchWWE: Boston, let’s celebrate together, shall we? Cause The  |   1284   |\n",
      "|              Man is coming round. #Raw https://t.co/jUwj4WjYwl              |          |\n",
      "+-----------------------------------------------------------------------------+----------+\n"
     ]
    }
   ],
   "source": [
    "from operator import itemgetter\n",
    "import textwrap\n",
    "\n",
    "# Get tweet and its retweet count\n",
    "retweetData = [{\"tweet\": item.get('text'), \"retweets\": int(item.get('retweet_count'))}\n",
    "               for item in twitterData]\n",
    "\n",
    "# Sort tweets in descending order by number of retweets\n",
    "sortedDecending = sorted(retweetData, key=itemgetter(\"retweets\"), reverse=True)\n",
    "\n",
    "# Print our data to a nice table\n",
    "retweetTable = PrettyTable()\n",
    "retweetTable.field_names = [\"Tweet\", \"Retweets\"]\n",
    "\n",
    "for t in sortedDecending[:10]:\n",
    "    retweetTable.add_row([textwrap.fill(t[\"tweet\"], 75), t[\"retweets\"]])\n",
    "\n",
    "print(retweetTable)"
   ]
  },
  {
   "cell_type": "markdown",
   "metadata": {},
   "source": [
    "**(3) Find the most popular Tweet Entities in your collection of tweets**\n",
    "\n",
    "Please plot the top 10 most-frequent hashtags and top 10 most-mentioned users in your collection of tweets."
   ]
  },
  {
   "cell_type": "code",
   "execution_count": 7,
   "metadata": {},
   "outputs": [
    {
     "name": "stdout",
     "output_type": "stream",
     "text": [
      "+----------------------+-------+\n",
      "| Most Common Hashtags | Count |\n",
      "+----------------------+-------+\n",
      "|       GoBolts        |   14  |\n",
      "|         Raw          |   13  |\n",
      "|       BOSvsTBL       |   12  |\n",
      "|         RAW          |   8   |\n",
      "|         Cubs         |   7   |\n",
      "|        WWERAW        |   4   |\n",
      "|        Boston        |   4   |\n",
      "|         cnn          |   3   |\n",
      "|       sitroom        |   3   |\n",
      "|       TheLead        |   3   |\n",
      "+----------------------+-------+\n",
      "+----------------------+-------+\n",
      "| Most Mentioned Users | Count |\n",
      "+----------------------+-------+\n",
      "|     EricHolthaus     |   29  |\n",
      "|     Section10Pod     |   16  |\n",
      "|    BeckyLynchWWE     |   12  |\n",
      "|     TBLightning      |   12  |\n",
      "|         350          |   10  |\n",
      "|         WWE          |   8   |\n",
      "|    barstoolsports    |   7   |\n",
      "|       NBCSCubs       |   6   |\n",
      "|      abelandia       |   5   |\n",
      "|    senadomexicano    |   5   |\n",
      "+----------------------+-------+\n"
     ]
    }
   ],
   "source": [
    "# Get hashtags\n",
    "hashtags = [hashtag.get('text')\n",
    "            for status in twitterData\n",
    "                for hashtag in status.get('entities').get('hashtags')]\n",
    "\n",
    "# Get user mentions\n",
    "userMentions = [userMention.get('screen_name')\n",
    "                for status in twitterData\n",
    "                    for userMention in status.get('entities').get('user_mentions')]\n",
    "\n",
    "# Get the most common hashtags and user mentions\n",
    "mostCommonHashtags = Counter(hashtags).most_common(10)\n",
    "mostMentionedUsers = Counter(userMentions).most_common(10)\n",
    "\n",
    "# Print our hashtag data to a nice table\n",
    "hashtagTable = PrettyTable()\n",
    "hashtagTable.field_names = [\"Most Common Hashtags\", \"Count\"]\n",
    "\n",
    "for h in mostCommonHashtags:\n",
    "    hashtagTable.add_row([h[0], h[1]])\n",
    "\n",
    "print(hashtagTable)\n",
    "\n",
    "# Print our user data to a nice table\n",
    "mentionedUserTable = PrettyTable()\n",
    "mentionedUserTable.field_names = [\"Most Mentioned Users\", \"Count\"]\n",
    "\n",
    "for u in mostMentionedUsers:\n",
    "    mentionedUserTable.add_row([u[0], u[1]])\n",
    "\n",
    "print(mentionedUserTable)"
   ]
  },
  {
   "cell_type": "markdown",
   "metadata": {},
   "source": [
    "Plot a histogram of the number of user mentions in the list using the following bins."
   ]
  },
  {
   "cell_type": "code",
   "execution_count": 8,
   "metadata": {},
   "outputs": [
    {
     "data": {
      "image/png": "[encoded data removed]",
      "text/plain": [
       "<Figure size 432x288 with 1 Axes>"
      ]
     },
     "metadata": {
      "needs_background": "light"
     },
     "output_type": "display_data"
    }
   ],
   "source": [
    "import matplotlib.pyplot as plt\n",
    "%matplotlib inline\n",
    "\n",
    "# Our histogram bins\n",
    "bins = [0, 10, 20, 30, 40, 50, 100]\n",
    "\n",
    "# Add a title and axis labels\n",
    "plt.title(\"User Mentions Histogram\")\n",
    "plt.ylabel(\"Frequency\")\n",
    "plt.xlabel(\"User Mentions\")\n",
    "\n",
    "# Draw a histogram\n",
    "userMentionCounter = Counter(userMentions)\n",
    "plt.hist(list(userMentionCounter.values()), bins)\n",
    "\n",
    "plt.show()"
   ]
  },
  {
   "cell_type": "raw",
   "metadata": {},
   "source": [
    "\n",
    " ** (optional task for fun) Getting \"All\" friends (followees) and \"All\" followers of a popular user in the tweets**"
   ]
  },
  {
   "cell_type": "markdown",
   "metadata": {},
   "source": [
    "* choose a popular twitter user who has many followers in your collection of tweets.\n",
    "* Get the list of all friends and all followers of the twitter user.\n",
    "* Plot 20 out of the followers, plot their ID numbers and screen names in a table.\n",
    "* Plot 20 out of the friends (if the user has more than 20 friends), plot their ID numbers and screen names in a table."
   ]
  },
  {
   "cell_type": "code",
   "execution_count": 9,
   "metadata": {},
   "outputs": [
    {
     "name": "stdout",
     "output_type": "stream",
     "text": [
      "Getting followers of  MeridianoTV\n",
      "20 followers of the user  MeridianoTV\n",
      "+---------------------+----------------------+\n",
      "|      ID Number      |     Screen Name      |\n",
      "+---------------------+----------------------+\n",
      "|  957636059579473920 |      LeonardoD       |\n",
      "|      115545500      |     LUIS RICARDO     |\n",
      "|      116799262      | deejay chabeto vzla  |\n",
      "| 1025167611166961664 |        Pedro         |\n",
      "|      2355146516     |   VIC_CARRILLO1983   |\n",
      "| 1110369197685686272 |   Angel Hernandez    |\n",
      "|  713730861850558465 |   pedro castellano   |\n",
      "|  803784555073302528 | Marco Antonio Lopez  |\n",
      "| 1059189701125566464 |   Amilcar Valente    |\n",
      "| 1104566054766997504 | luis javier zambrano |\n",
      "| 1093719858250952704 |        S'f 🍻         |\n",
      "| 1067933296598892544 |     Hugo Osorio      |\n",
      "| 1057097706529845249 |      #ELCRITICO      |\n",
      "| 1085886145534328832 |  Ricardo Rodríguez   |\n",
      "| 1089988304467099655 |       Leonardo       |\n",
      "| 1109996538263146498 |   Alvaro Graterol    |\n",
      "| 1097524269960097792 |    Nemesys_Combat    |\n",
      "| 1110341565812219904 |      Rennydiaz       |\n",
      "| 1109655007589212160 |     Jean Bernay      |\n",
      "| 1110327352893079552 |        Ismael        |\n",
      "+---------------------+----------------------+\n",
      "Getting friends of  MeridianoTV\n",
      "20 friends of the user  MeridianoTV\n",
      "+--------------------+--------------------------+\n",
      "|     ID Number      |       Screen Name        |\n",
      "+--------------------+--------------------------+\n",
      "|      85566140      |       Carlos Ponte       |\n",
      "| 721090928652509184 |       Daniel Prado       |\n",
      "|     188099573      |     Yovanny Vasquez      |\n",
      "|     505330177      | Tsuyoshi Iwamoto🇻🇪🇨🇴🇪🇸🇯🇵 |\n",
      "| 906213869042917377 |      Alfonso Cuaron      |\n",
      "|     142751926      |     Fabiana Rosales      |\n",
      "|      39176902      |       Juan Guaidó        |\n",
      "|      36139166      |        Jon Heyman        |\n",
      "|     361848512      |    Aerolíneas Estelar    |\n",
      "|     493444925      |     Laura Sosa Reyes     |\n",
      "|      90574454      |    Carlos M. Ramírez     |\n",
      "|     870130896      |   Alexon J. García R.    |\n",
      "|     1507246921     |    Haras La Orlyana..    |\n",
      "|     4402331248     |     Antonio Da Silva     |\n",
      "|      94370717      |      TONY CARRASCO       |\n",
      "|     331484419      |       FEVEBEISBOL        |\n",
      "|     204418400      |       Gaby Dagnino       |\n",
      "|      15160529      |        TheCounter        |\n",
      "|     127553583      |       Daniza Daniz       |\n",
      "|      82695753      |      Vanessa Alaimo      |\n",
      "+--------------------+--------------------------+\n"
     ]
    }
   ],
   "source": [
    "# Get users and their follower count\n",
    "userAndFollowers = [{\"screenName\": item.get('user').get(\"screen_name\"), \"followersCount\": int(item.get('user').get('followers_count'))}\n",
    "                    for item in twitterData]\n",
    "\n",
    "# Get the user with the largest number of followers\n",
    "userWithMostFollowers = max(userAndFollowers, key=lambda x:x['followersCount'])\n",
    "\n",
    "# The user whose followers and friends we will search for\n",
    "user = userWithMostFollowers['screenName']\n",
    "\n",
    "count = 20 # Number of followers/friends to get\n",
    "\n",
    "\n",
    "\n",
    "# Search twitter for this users followers\n",
    "print(\"Getting followers of \", user)\n",
    "followers = twitterAPI.followers.list(screen_name=user, count=count)\n",
    "\n",
    "# Get info about this users followers, namely their id and screen name\n",
    "followersInfo = [{\"idNumber\": item.get(\"id\"), \"screenName\": item.get(\"name\")}\n",
    "                for item in followers['users']]\n",
    "\n",
    "# Print our data to a nice table\n",
    "followersTable = PrettyTable()\n",
    "print(\"20 followers of the user \", user)\n",
    "followersTable.field_names = [\"ID Number\", \"Screen Name\"]\n",
    "\n",
    "for f in followersInfo:\n",
    "    followersTable.add_row([f[\"idNumber\"], f[\"screenName\"]])\n",
    "\n",
    "print(followersTable)\n",
    "\n",
    "\n",
    "\n",
    "# Search twitter for this users friends\n",
    "print(\"Getting friends of \", user)\n",
    "friends = twitterAPI.friends.list(screen_name=user, count=count)\n",
    "\n",
    "# Get info about this users friends\n",
    "friendsInfo = [{\"idNumber\": item.get(\"id\"), \"screenName\": item.get(\"name\")}\n",
    "                for item in friends['users']]\n",
    "\n",
    "# Print our data to a nice table\n",
    "friendsTable = PrettyTable()\n",
    "print(\"20 friends of the user \", user)\n",
    "friendsTable.field_names = [\"ID Number\", \"Screen Name\"]\n",
    "\n",
    "for f in friendsInfo:\n",
    "    friendsTable.add_row([f[\"idNumber\"], f[\"screenName\"]])\n",
    "\n",
    "print(friendsTable)"
   ]
  },
  {
   "cell_type": "markdown",
   "metadata": {},
   "source": [
    "Plot a scatter plot comparing friends and followers"
   ]
  },
  {
   "cell_type": "code",
   "execution_count": 10,
   "metadata": {},
   "outputs": [
    {
     "data": {
      "image/png": "[encoded data removed]",
      "text/plain": [
       "<Figure size 800x480 with 1 Axes>"
      ]
     },
     "metadata": {},
     "output_type": "display_data"
    }
   ],
   "source": [
    "import np as np\n",
    "from numpy import array\n",
    "from matplotlib.pyplot import figure\n",
    "\n",
    "# Get number of followers for each tweet we collected\n",
    "numFollowers = [int(status.get('user').get('followers_count'))\n",
    "                for status in twitterData]\n",
    "\n",
    "# Get number of friends for each tweet we collected\n",
    "numFriends = [int(status.get('user').get('friends_count'))\n",
    "              for status in twitterData]\n",
    "\n",
    "# Set figure size\n",
    "figure(num=None, figsize=(10, 6), dpi=80, facecolor='w', edgecolor='k')\n",
    "\n",
    "# Plot a scatter plot\n",
    "plt.title(\"Twitter: Followers vs Friends\")\n",
    "plt.xlabel(\"Number of Friends\")\n",
    "plt.ylabel(\"Number of Followers\")\n",
    "\n",
    "plt.scatter(numFriends, numFollowers)\n",
    "plt.show()"
   ]
  },
  {
   "cell_type": "code",
   "execution_count": null,
   "metadata": {},
   "outputs": [],
   "source": []
  }
 ],
 "metadata": {
  "anaconda-cloud": {},
  "kernelspec": {
   "display_name": "Python 3",
   "language": "python",
   "name": "python3"
  },
  "language_info": {
   "codemirror_mode": {
    "name": "ipython",
    "version": 3
   },
   "file_extension": ".py",
   "mimetype": "text/x-python",
   "name": "python",
   "nbconvert_exporter": "python",
   "pygments_lexer": "ipython3",
   "version": "3.7.2"
  }
 },
 "nbformat": 4,
 "nbformat_minor": 1
}
