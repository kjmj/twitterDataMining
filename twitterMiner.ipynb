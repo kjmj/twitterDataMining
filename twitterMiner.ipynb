{
 "cells": [
  {
   "cell_type": "markdown",
   "metadata": {},
   "source": [
    "# HW1 : Data Science in Twitter Data\n",
    "Ken Morton"
   ]
  },
  {
   "cell_type": "markdown",
   "metadata": {},
   "source": [
    "## Data Collection: Download Twitter Data using API"
   ]
  },
  {
   "cell_type": "markdown",
   "metadata": {},
   "source": [
    "* As the first step of Data Science process, let's collect some twitter data. Choose a keyword and search tweets containing the keyword by using Twitter search API, and then download the searched tweets (including the meta data that the Search API returns) in a file. It is recommended that the number of searched tweets should be at least 300.\n",
    "* Store the tweets you downloaded into a local file (txt file or json file) "
   ]
  },
  {
   "cell_type": "code",
   "execution_count": 1,
   "metadata": {},
   "outputs": [
    {
     "name": "stdout",
     "output_type": "stream",
     "text": [
      "Retrieving tweets...\n",
      "Finished retrieving  387  tweets, now writing to file.\n"
     ]
    }
   ],
   "source": [
    "import twitter\n",
    "import json\n",
    "from urllib.parse import unquote\n",
    "\n",
    "# Function used to login to the twitter API\n",
    "def oauthLogin():\n",
    "    # Go to http://twitter.com/apps/new to create an app and get values\n",
    "    # for these credentials that you'll need to provide in place of these\n",
    "    # empty string values that are defined as placeholders.\n",
    "    # See https://dev.twitter.com/docs/auth/oauth for more information \n",
    "    # on Twitter's OAuth implementation.\n",
    "    \n",
    "    CONSUMER_KEY = 'INSERT_API_KEY_HERE'\n",
    "    CONSUMER_SECRET = 'INSERT_API_SECRET_KEY_HERE'\n",
    "    OAUTH_TOKEN = 'INSERT_ACCESS_TOKEN_HERE'\n",
    "    OAUTH_TOKEN_SECRET = 'INSERT_ACCESS_TOKEN_SECRET_HERE'\n",
    "    \n",
    "    auth = twitter.oauth.OAuth(OAUTH_TOKEN, OAUTH_TOKEN_SECRET,\n",
    "                               CONSUMER_KEY, CONSUMER_SECRET)\n",
    "    \n",
    "    twitterAPI = twitter.Twitter(auth=auth)\n",
    "    return twitterAPI\n",
    "\n",
    "# Login to the twitter API\n",
    "twitterAPI = oauthLogin();\n",
    "\n",
    "query = 'celtics' # The term to search twitter with\n",
    "count = 100 # Number of tweets to retrieve per batch\n",
    "tweetCount = 0 # Total number of tweets retrieved\n",
    "\n",
    "print(\"Retrieving tweets...\")\n",
    "\n",
    "# Search twitter and get statuses\n",
    "searchResults = twitterAPI.search.tweets(q=query, count=count)\n",
    "statuses = searchResults['statuses']\n",
    "\n",
    "# Iterate through 3 more batches of results by following the cursor\n",
    "for _ in range(3):\n",
    "    try:\n",
    "        nextResults = searchResults['search_metadata']['next_results']\n",
    "    except KeyError as e: # No more results when next_results doesn't exist\n",
    "        break\n",
    "\n",
    "    # Create a dictionary from next_results, which has the following form:\n",
    "    # ?max_id=847960489447628799&q=%23RIPSelena&count=100&include_entities=1\n",
    "    kwargs = dict([ kv.split('=') for kv in unquote(nextResults[1:]).split(\"&\") ])\n",
    "\n",
    "    searchResults = twitterAPI.search.tweets(**kwargs)\n",
    "    statuses += searchResults['statuses']\n",
    "\n",
    "# Determine how many tweets were retrieved\n",
    "tweetCount = len(statuses)\n",
    "print(\"Finished retrieving \", tweetCount, \" tweets, now writing to file.\");\n",
    "\n",
    "# Save to a file\n",
    "with open('twitterData.json', 'w') as outfile:  \n",
    "    json.dump(statuses, outfile, indent=4)"
   ]
  },
  {
   "cell_type": "code",
   "execution_count": 2,
   "metadata": {},
   "outputs": [],
   "source": [
    "### Report  statistics about the tweets you collected "
   ]
  },
  {
   "cell_type": "code",
   "execution_count": 3,
   "metadata": {
    "scrolled": true
   },
   "outputs": [
    {
     "name": "stdout",
     "output_type": "stream",
     "text": [
      "What keyword did you choose?:  celtics\n"
     ]
    }
   ],
   "source": [
    "print(\"What keyword did you choose?: \", query)"
   ]
  },
  {
   "cell_type": "code",
   "execution_count": 4,
   "metadata": {},
   "outputs": [
    {
     "name": "stdout",
     "output_type": "stream",
     "text": [
      "The total number of tweets collected:  387\n"
     ]
    }
   ],
   "source": [
    "print(\"The total number of tweets collected: \", tweetCount)"
   ]
  },
  {
   "cell_type": "markdown",
   "metadata": {},
   "source": [
    "# Data Exploration: Exploring the Tweets and Tweet Entities\n",
    "\n",
    "**(1) Word Count:** \n",
    "* Load the tweets you collected in the local file (txt or json)\n",
    "* compute the frequencies of the words being used in these tweets. \n",
    "* Plot a table of the top 30 most-frequent words with their counts"
   ]
  },
  {
   "cell_type": "code",
   "execution_count": 5,
   "metadata": {},
   "outputs": [
    {
     "name": "stdout",
     "output_type": "stream",
     "text": [
      "+-------------------------+-------+\n",
      "|           Word          | Count |\n",
      "+-------------------------+-------+\n",
      "|           the           |  332  |\n",
      "|         Celtics         |  230  |\n",
      "|            RT           |  200  |\n",
      "|            to           |  106  |\n",
      "|            on           |   97  |\n",
      "|           and           |   92  |\n",
      "|            a            |   90  |\n",
      "|           was           |   73  |\n",
      "|            he           |   70  |\n",
      "|            in           |   64  |\n",
      "|         @celtics        |   53  |\n",
      "|           when          |   49  |\n",
      "|           The           |   46  |\n",
      "|          Devin          |   45  |\n",
      "|          Booker         |   45  |\n",
      "|           only          |   45  |\n",
      "|            70           |   45  |\n",
      "|           are           |   44  |\n",
      "|       @SLAMonline:      |   43  |\n",
      "|            20           |   43  |\n",
      "|         dropped         |   43  |\n",
      "| https://t.co/eGqzEnEIFC |   43  |\n",
      "|          Spurs          |   42  |\n",
      "|         Aldridge        |   36  |\n",
      "|            of           |   34  |\n",
      "|            at           |   34  |\n",
      "|            I            |   34  |\n",
      "|           out           |   33  |\n",
      "|           with          |   31  |\n",
      "|           have          |   31  |\n",
      "+-------------------------+-------+\n"
     ]
    }
   ],
   "source": [
    "import operator \n",
    "import json\n",
    "from collections import Counter\n",
    "from prettytable import PrettyTable\n",
    "\n",
    "# Read in the tweet data\n",
    "with open('twitterData.json') as file:\n",
    "    twitterData = json.loads(file.read())\n",
    "\n",
    "# Obtain the texts of the tweets\n",
    "statusTexts = [status.get('text') \n",
    "                for status in twitterData]\n",
    "\n",
    "# Obtain list of all the words in the twitter statuses\n",
    "words = [word \n",
    "         for t in statusTexts \n",
    "             for word in t.split()]\n",
    "\n",
    "# Pass our words to a Counter\n",
    "counter = Counter(words) \n",
    "  \n",
    "# Get the most common words\n",
    "mostCommonWords = counter.most_common(30)\n",
    "\n",
    "# Print our data to a nice table\n",
    "mostCommonWordsTable = PrettyTable()\n",
    "mostCommonWordsTable.field_names = [\"Word\", \"Count\"]\n",
    "\n",
    "for word in mostCommonWords:\n",
    "    mostCommonWordsTable.add_row([word[0], word[1]])\n",
    "\n",
    "print(mostCommonWordsTable)"
   ]
  },
  {
   "cell_type": "markdown",
   "metadata": {},
   "source": [
    "** (2) Find the most popular tweets in your collection of tweets**\n",
    "\n",
    "Please plot a table of the top 10 most-retweeted tweets in your collection, i.e., the tweets with the largest number of retweet counts.\n"
   ]
  },
  {
   "cell_type": "code",
   "execution_count": 6,
   "metadata": {},
   "outputs": [
    {
     "name": "stdout",
     "output_type": "stream",
     "text": [
      "+----------------------------------------------------------------------------+----------+\n",
      "|                                   Tweet                                    | Retweets |\n",
      "+----------------------------------------------------------------------------+----------+\n",
      "| RT @SLAMonline: Devin Booker was only 20 when he dropped 70 on the Celtics |   3310   |\n",
      "|                          https://t.co/eGqzEnEIFC                           |          |\n",
      "| RT @SLAMonline: Devin Booker was only 20 when he dropped 70 on the Celtics |   3310   |\n",
      "|                          https://t.co/eGqzEnEIFC                           |          |\n",
      "| RT @SLAMonline: Devin Booker was only 20 when he dropped 70 on the Celtics |   3310   |\n",
      "|                          https://t.co/eGqzEnEIFC                           |          |\n",
      "| RT @SLAMonline: Devin Booker was only 20 when he dropped 70 on the Celtics |   3310   |\n",
      "|                          https://t.co/eGqzEnEIFC                           |          |\n",
      "| RT @SLAMonline: Devin Booker was only 20 when he dropped 70 on the Celtics |   3310   |\n",
      "|                          https://t.co/eGqzEnEIFC                           |          |\n",
      "| RT @SLAMonline: Devin Booker was only 20 when he dropped 70 on the Celtics |   3310   |\n",
      "|                          https://t.co/eGqzEnEIFC                           |          |\n",
      "| RT @SLAMonline: Devin Booker was only 20 when he dropped 70 on the Celtics |   3310   |\n",
      "|                          https://t.co/eGqzEnEIFC                           |          |\n",
      "| RT @SLAMonline: Devin Booker was only 20 when he dropped 70 on the Celtics |   3310   |\n",
      "|                          https://t.co/eGqzEnEIFC                           |          |\n",
      "| RT @SLAMonline: Devin Booker was only 20 when he dropped 70 on the Celtics |   3310   |\n",
      "|                          https://t.co/eGqzEnEIFC                           |          |\n",
      "| RT @SLAMonline: Devin Booker was only 20 when he dropped 70 on the Celtics |   3310   |\n",
      "|                          https://t.co/eGqzEnEIFC                           |          |\n",
      "+----------------------------------------------------------------------------+----------+\n"
     ]
    }
   ],
   "source": [
    "from operator import itemgetter\n",
    "import textwrap\n",
    "\n",
    "# Get tweet and its retweet count\n",
    "retweetData = [{\"tweet\": item.get('text'), \"retweets\": int(item.get('retweet_count'))}\n",
    "               for item in twitterData]\n",
    "\n",
    "# Sort tweets in descending order by number of retweets\n",
    "sortedDecending = sorted(retweetData, key=itemgetter(\"retweets\"), reverse=True)\n",
    "\n",
    "# Print our data to a nice table\n",
    "retweetTable = PrettyTable()\n",
    "retweetTable.field_names = [\"Tweet\", \"Retweets\"]\n",
    "\n",
    "for t in sortedDecending[:10]:\n",
    "    retweetTable.add_row([textwrap.fill(t[\"tweet\"], 75), t[\"retweets\"]])\n",
    "\n",
    "print(retweetTable)"
   ]
  },
  {
   "cell_type": "markdown",
   "metadata": {},
   "source": [
    "**(3) Find the most popular Tweet Entities in your collection of tweets**\n",
    "\n",
    "Please plot the top 10 most-frequent hashtags and top 10 most-mentioned users in your collection of tweets."
   ]
  },
  {
   "cell_type": "code",
   "execution_count": 7,
   "metadata": {},
   "outputs": [
    {
     "name": "stdout",
     "output_type": "stream",
     "text": [
      "+----------------------+-------+\n",
      "| Most Common Hashtags | Count |\n",
      "+----------------------+-------+\n",
      "|       Celtics        |   19  |\n",
      "|  AlabamaCeltics2022  |   11  |\n",
      "|      future150       |   11  |\n",
      "|        Spurs         |   10  |\n",
      "|   BostonSportsNews   |   5   |\n",
      "|         NBA          |   4   |\n",
      "|      GoSpursGo       |   4   |\n",
      "|       CUsRise        |   3   |\n",
      "|      Showdowns       |   2   |\n",
      "|      NBANaESPN       |   1   |\n",
      "+----------------------+-------+\n",
      "+----------------------+-------+\n",
      "| Most Mentioned Users | Count |\n",
      "+----------------------+-------+\n",
      "|       celtics        |   65  |\n",
      "|      SLAMonline      |   43  |\n",
      "|     goknickstape     |   17  |\n",
      "|        BR_NBA        |   12  |\n",
      "|       Tom_NBA        |   10  |\n",
      "|     celticsgreed     |   10  |\n",
      "|    KeithSmithNBA     |   9   |\n",
      "|        onlxn         |   9   |\n",
      "|      ByJayKing       |   8   |\n",
      "|     JabariJYoung     |   8   |\n",
      "+----------------------+-------+\n"
     ]
    }
   ],
   "source": [
    "# Get hashtags\n",
    "hashtags = [hashtag.get('text')\n",
    "            for status in twitterData\n",
    "                for hashtag in status.get('entities').get('hashtags')]\n",
    "\n",
    "# Get user mentions\n",
    "userMentions = [userMention.get('screen_name')\n",
    "                for status in twitterData\n",
    "                    for userMention in status.get('entities').get('user_mentions')]\n",
    "\n",
    "# Get the most common hashtags and user mentions\n",
    "mostCommonHashtags = Counter(hashtags).most_common(10)\n",
    "mostMentionedUsers = Counter(userMentions).most_common(10)\n",
    "\n",
    "# Print our hashtag data to a nice table\n",
    "hashtagTable = PrettyTable()\n",
    "hashtagTable.field_names = [\"Most Common Hashtags\", \"Count\"]\n",
    "\n",
    "for h in mostCommonHashtags:\n",
    "    hashtagTable.add_row([h[0], h[1]])\n",
    "\n",
    "print(hashtagTable)\n",
    "\n",
    "# Print our user data to a nice table\n",
    "mentionedUserTable = PrettyTable()\n",
    "mentionedUserTable.field_names = [\"Most Mentioned Users\", \"Count\"]\n",
    "\n",
    "for u in mostMentionedUsers:\n",
    "    mentionedUserTable.add_row([u[0], u[1]])\n",
    "\n",
    "print(mentionedUserTable)"
   ]
  },
  {
   "cell_type": "markdown",
   "metadata": {},
   "source": [
    "Plot a histogram of the number of user mentions in the list using the following bins."
   ]
  },
  {
   "cell_type": "code",
   "execution_count": 8,
   "metadata": {},
   "outputs": [
    {
     "data": {
      "image/png": "[encoded data removed]",
      "text/plain": [
       "<Figure size 432x288 with 1 Axes>"
      ]
     },
     "metadata": {
      "needs_background": "light"
     },
     "output_type": "display_data"
    }
   ],
   "source": [
    "import matplotlib.pyplot as plt\n",
    "%matplotlib inline\n",
    "\n",
    "# Our histogram bins\n",
    "bins = [0, 10, 20, 30, 40, 50, 100]\n",
    "\n",
    "# Add a title and axis labels\n",
    "plt.title(\"User Mentions Histogram\")\n",
    "plt.ylabel(\"Frequency\")\n",
    "plt.xlabel(\"User Mentions\")\n",
    "\n",
    "# Draw a histogram\n",
    "userMentionCounter = Counter(userMentions)\n",
    "plt.hist(list(userMentionCounter.values()), bins)\n",
    "\n",
    "plt.show()"
   ]
  },
  {
   "cell_type": "raw",
   "metadata": {},
   "source": [
    "\n",
    " ** (optional task for fun) Getting \"All\" friends (followees) and \"All\" followers of a popular user in the tweets**"
   ]
  },
  {
   "cell_type": "markdown",
   "metadata": {},
   "source": [
    "* choose a popular twitter user who has many followers in your collection of tweets.\n",
    "* Get the list of all friends and all followers of the twitter user.\n",
    "* Plot 20 out of the followers, plot their ID numbers and screen names in a table.\n",
    "* Plot 20 out of the friends (if the user has more than 20 friends), plot their ID numbers and screen names in a table."
   ]
  },
  {
   "cell_type": "code",
   "execution_count": 11,
   "metadata": {},
   "outputs": [
    {
     "name": "stdout",
     "output_type": "stream",
     "text": [
      "Getting followers of  ABSCBNNews\n",
      "20 followers of the user  ABSCBNNews\n",
      "+---------------------+---------------------------------------------+\n",
      "|      ID Number      |                 Screen Name                 |\n",
      "+---------------------+---------------------------------------------+\n",
      "| 1110010003795009536 |                   Kayleng                   |\n",
      "| 1110018713200132102 |                  Joy Goyon                  |\n",
      "| 1109995937672265729 |                   Pearlass                  |\n",
      "| 1024428894743482368 |                rish portento                |\n",
      "| 1110018206985531392 |                 teammenning                 |\n",
      "| 1110019010848915456 |               Elbert Bautista               |\n",
      "| 1110018008787771392 |          Hi-sah Samanoding Macacua          |\n",
      "| 1110017603303403520 |                  Geraldine                  |\n",
      "| 1110017369072533504 |                  Chriszel26                 |\n",
      "| 1110017097625563136 |                 Tin Bensurto                |\n",
      "| 1110017583581782016 |                Ashley Gillaco               |\n",
      "| 1110010189627875329 |                 @yachmaldita                |\n",
      "| 1069963676323586050 |                     Nam                     |\n",
      "|      2306366240     |                 Paul Ngochua                |\n",
      "| 1110013489899171840 |           Rechael Cabrera calitina          |\n",
      "|      398554655      |             raghavayuvapraneeth             |\n",
      "| 1097839240572878848 |               Nicole Laguerta               |\n",
      "| 1110013193911308288 |                    Abby08                   |\n",
      "| 1102990574469054464 | Virtual Support Services by Jymmes Infiesto |\n",
      "| 1102048891011125248 |                    Ememar                   |\n",
      "+---------------------+---------------------------------------------+\n",
      "Getting friends of  ABSCBNNews\n",
      "20 friends of the user  ABSCBNNews\n",
      "+---------------------+-----------------------+\n",
      "|      ID Number      |      Screen Name      |\n",
      "+---------------------+-----------------------+\n",
      "| 1068481508388696066 | Rose Carmelle Lacuata |\n",
      "|      135429796      |      Kat Domingo      |\n",
      "|      498562988      |   Jonathan Harley 🚴   |\n",
      "|      1415554224     |     Rowegie Abanto    |\n",
      "| 1080649667770122240 |   Bruce T. Rodriguez  |\n",
      "|       78244130      |       ☺️ HAPPEE       |\n",
      "|      108793116      |       Dom Menor       |\n",
      "|  796341740244373504 |      Jon cellona      |\n",
      "|  951261172132601856 |          ANCX         |\n",
      "|       92174767      |     DZMM TeleRadyo    |\n",
      "|       32259472      |    Maria Arra Perez   |\n",
      "|  987276742459969536 |     Lady Vicencio     |\n",
      "|  800910249230110720 |     Arianne Merez     |\n",
      "|       15160529      |       TheCounter      |\n",
      "|  728951274830340100 |     Maan Macapagal    |\n",
      "|       29007183      |     Jervis Manahan    |\n",
      "|       43356473      |       Isay Reyes      |\n",
      "|  931436487870103552 |    Jaehwa Bernardo    |\n",
      "|  728138381746536448 |     Boying Remulla    |\n",
      "|      2710893258     |    Kristine Sabillo   |\n",
      "+---------------------+-----------------------+\n"
     ]
    }
   ],
   "source": [
    "# Get users and their follower count\n",
    "userAndFollowers = [{\"screenName\": item.get('user').get(\"screen_name\"), \"followersCount\": int(item.get('user').get('followers_count'))}\n",
    "                    for item in twitterData]\n",
    "\n",
    "# Get the user with the largest number of followers\n",
    "userWithMostFollowers = max(userAndFollowers, key=lambda x:x['followersCount'])\n",
    "\n",
    "# The user whose followers and friends we will search for\n",
    "user = userWithMostFollowers['screenName']\n",
    "\n",
    "count = 20 # Number of followers/friends to get\n",
    "\n",
    "# Search twitter for this users followers\n",
    "print(\"Getting followers of \", user)\n",
    "followers = twitterAPI.followers.list(screen_name=user, count=count)\n",
    "\n",
    "# Get info about this users followers\n",
    "followersInfo = [{\"idNumber\": item.get(\"id\"), \"screenName\": item.get(\"name\")}\n",
    "                for item in followers['users']]\n",
    "\n",
    "# Print our data to a nice table\n",
    "followersTable = PrettyTable()\n",
    "print(\"20 followers of the user \", user)\n",
    "followersTable.field_names = [\"ID Number\", \"Screen Name\"]\n",
    "\n",
    "for f in followersInfo:\n",
    "    followersTable.add_row([f[\"idNumber\"], f[\"screenName\"]])\n",
    "\n",
    "print(followersTable)\n",
    "\n",
    "\n",
    "\n",
    "# Search twitter for this users friends\n",
    "print(\"Getting friends of \", user)\n",
    "friends = twitterAPI.friends.list(screen_name=user, count=count)\n",
    "\n",
    "# Get info about this users friends\n",
    "friendsInfo = [{\"idNumber\": item.get(\"id\"), \"screenName\": item.get(\"name\")}\n",
    "                for item in friends['users']]\n",
    "\n",
    "# Print our data to a nice table\n",
    "friendsTable = PrettyTable()\n",
    "print(\"20 friends of the user \", user)\n",
    "friendsTable.field_names = [\"ID Number\", \"Screen Name\"]\n",
    "\n",
    "for f in friendsInfo:\n",
    "    friendsTable.add_row([f[\"idNumber\"], f[\"screenName\"]])\n",
    "\n",
    "print(friendsTable)"
   ]
  },
  {
   "cell_type": "code",
   "execution_count": null,
   "metadata": {},
   "outputs": [],
   "source": []
  }
 ],
 "metadata": {
  "anaconda-cloud": {},
  "kernelspec": {
   "display_name": "Python 3",
   "language": "python",
   "name": "python3"
  },
  "language_info": {
   "codemirror_mode": {
    "name": "ipython",
    "version": 3
   },
   "file_extension": ".py",
   "mimetype": "text/x-python",
   "name": "python",
   "nbconvert_exporter": "python",
   "pygments_lexer": "ipython3",
   "version": "3.7.2"
  }
 },
 "nbformat": 4,
 "nbformat_minor": 1
}
