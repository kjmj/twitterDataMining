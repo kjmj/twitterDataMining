{
 "cells": [
  {
   "cell_type": "markdown",
   "metadata": {},
   "source": [
    "# HW1 : Data Science in Twitter Data\n",
    "Ken Morton"
   ]
  },
  {
   "cell_type": "markdown",
   "metadata": {},
   "source": [
    "## Data Collection: Download Twitter Data using API"
   ]
  },
  {
   "cell_type": "markdown",
   "metadata": {},
   "source": [
    "* As the first step of Data Science process, let's collect some twitter data. Choose a keyword and search tweets containing the keyword by using Twitter search API, and then download the searched tweets (including the meta data that the Search API returns) in a file. It is recommended that the number of searched tweets should be at least 300.\n",
    "* Store the tweets you downloaded into a local file (txt file or json file) "
   ]
  },
  {
   "cell_type": "code",
   "execution_count": 6,
   "metadata": {},
   "outputs": [
    {
     "name": "stdout",
     "output_type": "stream",
     "text": [
      "Retrieving tweets...\n",
      "Finished retrieving  386  tweets, now writing to file.\n"
     ]
    }
   ],
   "source": [
    "import twitter\n",
    "import json\n",
    "from urllib.parse import unquote\n",
    "\n",
    "# Function used to login to the twitter API\n",
    "def oauthLogin():\n",
    "    # Go to http://twitter.com/apps/new to create an app and get values\n",
    "    # for these credentials that you'll need to provide in place of these\n",
    "    # empty string values that are defined as placeholders.\n",
    "    # See https://dev.twitter.com/docs/auth/oauth for more information \n",
    "    # on Twitter's OAuth implementation.\n",
    "    \n",
    "    CONSUMER_KEY = 'INSERT_API_KEY_HERE'\n",
    "    CONSUMER_SECRET = 'INSERT_API_SECRET_KEY_HERE'\n",
    "    OAUTH_TOKEN = 'INSERT_ACCESS_TOKEN_HERE'\n",
    "    OAUTH_TOKEN_SECRET = 'INSERT_ACCESS_TOKEN_SECRET_HERE'\n",
    "    \n",
    "    auth = twitter.oauth.OAuth(OAUTH_TOKEN, OAUTH_TOKEN_SECRET,\n",
    "                               CONSUMER_KEY, CONSUMER_SECRET)\n",
    "    \n",
    "    twitterAPI = twitter.Twitter(auth=auth)\n",
    "    return twitterAPI\n",
    "\n",
    "# Login to the twitter API\n",
    "twitterAPI = oauthLogin();\n",
    "\n",
    "query = 'celtics' # The term to search twitter with\n",
    "count = 100 # Number of tweets to retrieve per batch\n",
    "tweetCount = 0 # Total number of tweets retrieved\n",
    "\n",
    "print(\"Retrieving tweets...\")\n",
    "\n",
    "# Search twitter and get statuses\n",
    "searchResults = twitterAPI.search.tweets(q=query, count=count)\n",
    "statuses = searchResults['statuses']\n",
    "\n",
    "# Iterate through 3 more batches of results by following the cursor\n",
    "for _ in range(3):\n",
    "    try:\n",
    "        nextResults = searchResults['search_metadata']['next_results']\n",
    "    except KeyError as e: # No more results when next_results doesn't exist\n",
    "        break\n",
    "\n",
    "    # Create a dictionary from next_results, which has the following form:\n",
    "    # ?max_id=847960489447628799&q=%23RIPSelena&count=100&include_entities=1\n",
    "    kwargs = dict([ kv.split('=') for kv in unquote(nextResults[1:]).split(\"&\") ])\n",
    "\n",
    "    searchResults = twitterAPI.search.tweets(**kwargs)\n",
    "    statuses += searchResults['statuses']\n",
    "\n",
    "# Determine how many tweets were retrieved\n",
    "tweetCount = len(statuses)\n",
    "print(\"Finished retrieving \", tweetCount, \" tweets, now writing to file.\");\n",
    "\n",
    "# Save to a file\n",
    "with open('twitterData.json', 'w') as outfile:  \n",
    "    json.dump(statuses, outfile, indent=4)"
   ]
  },
  {
   "cell_type": "code",
   "execution_count": 7,
   "metadata": {},
   "outputs": [],
   "source": [
    "### Report  statistics about the tweets you collected "
   ]
  },
  {
   "cell_type": "code",
   "execution_count": 8,
   "metadata": {
    "scrolled": true
   },
   "outputs": [
    {
     "name": "stdout",
     "output_type": "stream",
     "text": [
      "What keyword did you choose?:  celtics\n"
     ]
    }
   ],
   "source": [
    "print(\"What keyword did you choose?: \", query)"
   ]
  },
  {
   "cell_type": "code",
   "execution_count": 9,
   "metadata": {},
   "outputs": [
    {
     "name": "stdout",
     "output_type": "stream",
     "text": [
      "The total number of tweets collected:  386\n"
     ]
    }
   ],
   "source": [
    "print(\"The total number of tweets collected: \", tweetCount)"
   ]
  },
  {
   "cell_type": "markdown",
   "metadata": {},
   "source": [
    "# Data Exploration: Exploring the Tweets and Tweet Entities\n",
    "\n",
    "**(1) Word Count:** \n",
    "* Load the tweets you collected in the local file (txt or json)\n",
    "* compute the frequencies of the words being used in these tweets. \n",
    "* Plot a table of the top 30 most-frequent words with their counts"
   ]
  },
  {
   "cell_type": "code",
   "execution_count": 10,
   "metadata": {},
   "outputs": [
    {
     "name": "stdout",
     "output_type": "stream",
     "text": [
      "+----------+-------+\n",
      "|   Word   | Count |\n",
      "+----------+-------+\n",
      "|   the    |  317  |\n",
      "| Celtics  |  214  |\n",
      "|    RT    |  178  |\n",
      "|   and    |   81  |\n",
      "|    to    |   74  |\n",
      "|    in    |   68  |\n",
      "|    a     |   67  |\n",
      "|    on    |   65  |\n",
      "|    I     |   51  |\n",
      "|   for    |   49  |\n",
      "| @celtics |   41  |\n",
      "|   team   |   41  |\n",
      "|   The    |   40  |\n",
      "| Aldridge |   38  |\n",
      "|    48    |   38  |\n",
      "|   this   |   36  |\n",
      "| LaMarcus |   35  |\n",
      "|  Spurs   |   34  |\n",
      "|   Brad   |   33  |\n",
      "|  Boston  |   32  |\n",
      "| Stevens  |   32  |\n",
      "|   from   |   31  |\n",
      "|   was    |   30  |\n",
      "| dropped  |   30  |\n",
      "|    70    |   30  |\n",
      "|  Devin   |   28  |\n",
      "|    he    |   28  |\n",
      "|  after   |   28  |\n",
      "|  Booker  |   27  |\n",
      "|   when   |   27  |\n",
      "+----------+-------+\n"
     ]
    }
   ],
   "source": [
    "import operator \n",
    "import json\n",
    "from collections import Counter\n",
    "from prettytable import PrettyTable\n",
    "\n",
    "# Read in the tweet data\n",
    "with open('twitterData.json') as file:\n",
    "    twitterData = json.loads(file.read())\n",
    "\n",
    "# Obtain the texts of the tweets\n",
    "statusTexts = [status.get('text') \n",
    "                for status in twitterData]\n",
    "\n",
    "# Obtain list of all the words in the twitter statuses\n",
    "words = [word \n",
    "         for t in statusTexts \n",
    "             for word in t.split()]\n",
    "\n",
    "# Pass our words to a Counter\n",
    "counter = Counter(words) \n",
    "  \n",
    "# Get the most common words\n",
    "mostCommonWords = counter.most_common(30)\n",
    "\n",
    "# Print our data to a nice table\n",
    "table = PrettyTable()\n",
    "table.field_names = [\"Word\", \"Count\"]\n",
    "\n",
    "for word in mostCommonWords:\n",
    "    table.add_row([word[0], word[1]])\n",
    "\n",
    "print(table)"
   ]
  },
  {
   "cell_type": "markdown",
   "metadata": {},
   "source": [
    "** (2) Find the most popular tweets in your collection of tweets**\n",
    "\n",
    "Please plot a table of the top 10 most-retweeted tweets in your collection, i.e., the tweets with the largest number of retweet counts.\n"
   ]
  },
  {
   "cell_type": "code",
   "execution_count": 11,
   "metadata": {},
   "outputs": [
    {
     "name": "stdout",
     "output_type": "stream",
     "text": [
      "+----------------------------------------------------------------------------+----------+\n",
      "|                                   Tweet                                    | Retweets |\n",
      "+----------------------------------------------------------------------------+----------+\n",
      "| RT @SLAMonline: Devin Booker was only 20 when he dropped 70 on the Celtics |   3082   |\n",
      "|                          https://t.co/eGqzEnEIFC                           |          |\n",
      "| RT @SLAMonline: Devin Booker was only 20 when he dropped 70 on the Celtics |   3082   |\n",
      "|                          https://t.co/eGqzEnEIFC                           |          |\n",
      "| RT @SLAMonline: Devin Booker was only 20 when he dropped 70 on the Celtics |   3082   |\n",
      "|                          https://t.co/eGqzEnEIFC                           |          |\n",
      "| RT @SLAMonline: Devin Booker was only 20 when he dropped 70 on the Celtics |   3082   |\n",
      "|                          https://t.co/eGqzEnEIFC                           |          |\n",
      "| RT @SLAMonline: Devin Booker was only 20 when he dropped 70 on the Celtics |   3082   |\n",
      "|                          https://t.co/eGqzEnEIFC                           |          |\n",
      "| RT @SLAMonline: Devin Booker was only 20 when he dropped 70 on the Celtics |   3082   |\n",
      "|                          https://t.co/eGqzEnEIFC                           |          |\n",
      "| RT @SLAMonline: Devin Booker was only 20 when he dropped 70 on the Celtics |   3082   |\n",
      "|                          https://t.co/eGqzEnEIFC                           |          |\n",
      "| RT @SLAMonline: Devin Booker was only 20 when he dropped 70 on the Celtics |   3082   |\n",
      "|                          https://t.co/eGqzEnEIFC                           |          |\n",
      "| RT @SLAMonline: Devin Booker was only 20 when he dropped 70 on the Celtics |   3082   |\n",
      "|                          https://t.co/eGqzEnEIFC                           |          |\n",
      "| RT @SLAMonline: Devin Booker was only 20 when he dropped 70 on the Celtics |   3082   |\n",
      "|                          https://t.co/eGqzEnEIFC                           |          |\n",
      "+----------------------------------------------------------------------------+----------+\n"
     ]
    }
   ],
   "source": [
    "from operator import itemgetter\n",
    "import textwrap\n",
    "\n",
    "# Get tweet and its retweet count\n",
    "retweetData = [{\"tweet\": item.get('text'), \"retweets\": int(item.get('retweet_count'))}\n",
    "               for item in twitterData]\n",
    "\n",
    "# Sort tweets in descending order by number of retweets\n",
    "sortedDecending = sorted(retweetData, key=itemgetter(\"retweets\"), reverse=True)\n",
    "\n",
    "# Print our data to a nice table\n",
    "table = PrettyTable()\n",
    "table.field_names = [\"Tweet\", \"Retweets\"]\n",
    "\n",
    "for t in sortedDecending[:10]:\n",
    "    table.add_row([textwrap.fill(t[\"tweet\"], 75), t[\"retweets\"]])\n",
    "\n",
    "print(table)"
   ]
  },
  {
   "cell_type": "markdown",
   "metadata": {},
   "source": [
    "**(3) Find the most popular Tweet Entities in your collection of tweets**\n",
    "\n",
    "Please plot the top 10 most-frequent hashtags and top 10 most-mentioned users in your collection of tweets."
   ]
  },
  {
   "cell_type": "code",
   "execution_count": 12,
   "metadata": {},
   "outputs": [
    {
     "name": "stdout",
     "output_type": "stream",
     "text": [
      "+----------------------+-------+\n",
      "| Most Common Hashtags | Count |\n",
      "+----------------------+-------+\n",
      "|       Celtics        |   24  |\n",
      "|        Spurs         |   9   |\n",
      "|       celtics        |   4   |\n",
      "|  ReacciónEnCaliente  |   3   |\n",
      "|        spurs         |   3   |\n",
      "|        Pacers        |   1   |\n",
      "|       CELTICS        |   1   |\n",
      "|       catarsis       |   1   |\n",
      "+----------------------+-------+\n",
      "+----------------------+-------+\n",
      "| Most Mentioned Users | Count |\n",
      "+----------------------+-------+\n",
      "|       celtics        |   56  |\n",
      "|      SLAMonline      |   21  |\n",
      "|        BR_NBA        |   20  |\n",
      "|    SIChrisMannix     |   17  |\n",
      "|     IarocciDave      |   15  |\n",
      "|     Max_Lederman     |   15  |\n",
      "|    Celtics_fan78     |   11  |\n",
      "|    HoopsReference    |   11  |\n",
      "|      Frogman980      |   8   |\n",
      "|      SixersAdam      |   7   |\n",
      "+----------------------+-------+\n"
     ]
    }
   ],
   "source": [
    "# Get hashtags\n",
    "hashtags = [hashtag.get('text')\n",
    "            for status in twitterData\n",
    "                for hashtag in status.get('entities').get('hashtags')]\n",
    "\n",
    "# Get user mentions\n",
    "userMentions = [userMention.get('screen_name')\n",
    "                for status in twitterData\n",
    "                    for userMention in status.get('entities').get('user_mentions')]\n",
    "\n",
    "# Get the most common hashtags and user mentions\n",
    "mostCommonHashtags = Counter(hashtags).most_common(10)\n",
    "mostMentionedUsers = Counter(userMentions).most_common(10)\n",
    "\n",
    "# Print our hashtag data to a nice table\n",
    "hashtagTable = PrettyTable()\n",
    "hashtagTable.field_names = [\"Most Common Hashtags\", \"Count\"]\n",
    "\n",
    "for h in mostCommonHashtags:\n",
    "    hashtagTable.add_row([h[0], h[1]])\n",
    "\n",
    "print(hashtagTable)\n",
    "\n",
    "# Print our user data to a nice table\n",
    "mentionedUserTable = PrettyTable()\n",
    "mentionedUserTable.field_names = [\"Most Mentioned Users\", \"Count\"]\n",
    "\n",
    "for u in mostMentionedUsers:\n",
    "    mentionedUserTable.add_row([u[0], u[1]])\n",
    "\n",
    "print(mentionedUserTable)"
   ]
  },
  {
   "cell_type": "markdown",
   "metadata": {},
   "source": [
    "Plot a histogram of the number of user mentions in the list using the following bins."
   ]
  },
  {
   "cell_type": "code",
   "execution_count": 13,
   "metadata": {},
   "outputs": [
    {
     "data": {
      "image/png": "[encoded data removed]",
      "text/plain": [
       "<Figure size 432x288 with 1 Axes>"
      ]
     },
     "metadata": {
      "needs_background": "light"
     },
     "output_type": "display_data"
    }
   ],
   "source": [
    "import matplotlib.pyplot as plt\n",
    "%matplotlib inline\n",
    "\n",
    "# Our histogram bins\n",
    "bins = [0, 10, 20, 30, 40, 50, 100]\n",
    "\n",
    "# Add a title and axis labels\n",
    "plt.title(\"User Mentions Histogram\")\n",
    "plt.ylabel(\"Frequency\")\n",
    "plt.xlabel(\"User Mentions\")\n",
    "\n",
    "# Draw a histogram\n",
    "userMentionCounter = Counter(userMentions)\n",
    "plt.hist(list(userMentionCounter.values()), bins)\n",
    "\n",
    "plt.show()"
   ]
  },
  {
   "cell_type": "raw",
   "metadata": {},
   "source": [
    "\n",
    " ** (optional task for fun) Getting \"All\" friends (followees) and \"All\" followers of a popular user in the tweets**"
   ]
  },
  {
   "cell_type": "markdown",
   "metadata": {},
   "source": [
    "* choose a popular twitter user who has many followers in your collection of tweets.\n",
    "* Get the list of all friends and all followers of the twitter user.\n",
    "* Plot 20 out of the followers, plot their ID numbers and screen names in a table.\n",
    "* Plot 20 out of the friends (if the user has more than 20 friends), plot their ID numbers and screen names in a table."
   ]
  },
  {
   "cell_type": "code",
   "execution_count": 14,
   "metadata": {},
   "outputs": [],
   "source": [
    "# Your code starts here\n",
    "#   Please add comments or text cells in between to explain the general idea of each block of the code.\n",
    "#   Please feel free to add more cells below this cell if necessary\n",
    "\n",
    "\n",
    "\n",
    "\n",
    "\n"
   ]
  },
  {
   "cell_type": "markdown",
   "metadata": {},
   "source": [
    "*-----------------\n",
    "# Done\n",
    "\n",
    "All set! \n",
    "\n",
    "** What do you need to submit?**\n",
    "\n",
    "* **Notebook File**: Save this Jupyter notebook, and find the notebook file in your folder (for example, \"filename.ipynb\"). This is the file you need to submit. Please make sure all the plotted tables and figures are in the notebook.\n",
    "\n",
    "** How to submit: **\n",
    "\n",
    "        Please submit through Canvas, in the Assignment \"HW1\".\n",
    "        "
   ]
  },
  {
   "cell_type": "code",
   "execution_count": null,
   "metadata": {},
   "outputs": [],
   "source": []
  }
 ],
 "metadata": {
  "anaconda-cloud": {},
  "kernelspec": {
   "display_name": "Python 3",
   "language": "python",
   "name": "python3"
  },
  "language_info": {
   "codemirror_mode": {
    "name": "ipython",
    "version": 3
   },
   "file_extension": ".py",
   "mimetype": "text/x-python",
   "name": "python",
   "nbconvert_exporter": "python",
   "pygments_lexer": "ipython3",
   "version": "3.7.2"
  }
 },
 "nbformat": 4,
 "nbformat_minor": 1
}
