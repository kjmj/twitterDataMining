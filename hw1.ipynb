{
 "cells": [
  {
   "cell_type": "markdown",
   "metadata": {},
   "source": [
    "# HW1 : Data Science in Twitter Data"
   ]
  },
  {
   "cell_type": "markdown",
   "metadata": {},
   "source": [
    "**Required Readings:** \n",
    "* Chapter 1 and Chapter 9 of the book [Mining the Social Web](https://www.safaribooksonline.com/library/view/mining-the-social/9781491973547/?orpq) \n",
    "* The codes for Chapters 1 and 9 are in [here](https://github.com/mikhailklassen/Mining-the-Social-Web-3rd-Edition/tree/master/notebooks).\n",
    "\n",
    "** NOTE **\n",
    "* Please don't forget to save the notebook frequently when working in Jupyter Notebook, otherwise the changes you made can be lost.\n",
    "\n",
    "*----------------------"
   ]
  },
  {
   "cell_type": "markdown",
   "metadata": {},
   "source": [
    "## Data Collection: Download Twitter Data using API"
   ]
  },
  {
   "cell_type": "markdown",
   "metadata": {},
   "source": [
    "* As the first step of Data Science process, let's collect some twitter data. Choose a keyword and search tweets containing the keyword by using Twitter search API, and then download the searched tweets (including the meta data that the Search API returns) in a file. It is recommended that the number of searched tweets should be at least 300.\n",
    "* Store the tweets you downloaded into a local file (txt file or json file) "
   ]
  },
  {
   "cell_type": "code",
   "execution_count": null,
   "metadata": {
    "collapsed": true
   },
   "outputs": [],
   "source": [
    "# What keyword did you choose?:  < INSERT YOUR ANSWER HERE>"
   ]
  },
  {
   "cell_type": "code",
   "execution_count": 4,
   "metadata": {},
   "outputs": [
    {
     "name": "stdout",
     "output_type": "stream",
     "text": [
      "Finished retrieving  249  tweets, now writing to file.\n"
     ]
    }
   ],
   "source": [
    "import twitter\n",
    "import json\n",
    "from urllib.parse import unquote\n",
    "\n",
    "# Function used to login to the twitter API\n",
    "def oauth_login():\n",
    "    # Go to http://twitter.com/apps/new to create an app and get values\n",
    "    # for these credentials that you'll need to provide in place of these\n",
    "    # empty string values that are defined as placeholders.\n",
    "    # See https://dev.twitter.com/docs/auth/oauth for more information \n",
    "    # on Twitter's OAuth implementation.\n",
    "    \n",
    "    CONSUMER_KEY = 'rvWuDJib6ho2Amz3n661dxt5G'\n",
    "    CONSUMER_SECRET ='HO3FPLChASHTPm8KgttlApQKppmHIg2kiZo5D2qfTL0xV5vcED'\n",
    "    OAUTH_TOKEN = '2227413643-0LRSq6PgFCtqJi5lN9nCtXvbJ8PtFWLmySuFwi4'\n",
    "    OAUTH_TOKEN_SECRET = 'Egy4sYBKiwS9oFFuSIGcnLCe3UlIornx7tYRsO80NezZG'\n",
    "    \n",
    "    auth = twitter.oauth.OAuth(OAUTH_TOKEN, OAUTH_TOKEN_SECRET,\n",
    "                               CONSUMER_KEY, CONSUMER_SECRET)\n",
    "    \n",
    "    twitter_api = twitter.Twitter(auth=auth)\n",
    "    return twitter_api\n",
    "\n",
    "twitterAPI = oauth_login();\n",
    "\n",
    "q = '#SaturdayMorning'\n",
    "\n",
    "count = 100\n",
    "tweetCount = 0\n",
    "\n",
    "search_results = twitterAPI.search.tweets(q=q, count=count)\n",
    "\n",
    "statuses = search_results['statuses']\n",
    "\n",
    "# Iterate through 3 more batches of results by following the cursor\n",
    "for _ in range(3):\n",
    "    try:\n",
    "        next_results = search_results['search_metadata']['next_results']\n",
    "    except KeyError as e: # No more results when next_results doesn't exist\n",
    "        break\n",
    "\n",
    "    # Create a dictionary from next_results, which has the following form:\n",
    "    # ?max_id=847960489447628799&q=%23RIPSelena&count=100&include_entities=1\n",
    "    kwargs = dict([ kv.split('=') for kv in unquote(next_results[1:]).split(\"&\") ])\n",
    "\n",
    "    search_results = twitterAPI.search.tweets(**kwargs)\n",
    "    statuses += search_results['statuses']\n",
    "\n",
    "tweetCount = len(statuses)\n",
    "\n",
    "print(\"Finished retrieving \", tweetCount, \" tweets, now writing to file.\");\n",
    "\n",
    "# Save to a file\n",
    "with open('twitterData.json', 'w') as outfile:  \n",
    "    json.dump(statuses, outfile, indent=4)\n"
   ]
  },
  {
   "cell_type": "markdown",
   "metadata": {},
   "source": [
    "### Report  statistics about the tweets you collected "
   ]
  },
  {
   "cell_type": "code",
   "execution_count": 5,
   "metadata": {},
   "outputs": [
    {
     "name": "stdout",
     "output_type": "stream",
     "text": [
      "The total number of tweets collected:  249\n"
     ]
    }
   ],
   "source": [
    "print(\"The total number of tweets collected: \", tweetCount)\n",
    "\n",
    "\n"
   ]
  },
  {
   "cell_type": "markdown",
   "metadata": {},
   "source": [
    "# Data Exploration: Exploring the Tweets and Tweet Entities\n",
    "\n",
    "**(1) Word Count:** \n",
    "* Load the tweets you collected in the local file (txt or json)\n",
    "* compute the frequencies of the words being used in these tweets. \n",
    "* Plot a table of the top 30 most-frequent words with their counts"
   ]
  },
  {
   "cell_type": "code",
   "execution_count": 17,
   "metadata": {},
   "outputs": [
    {
     "name": "stdout",
     "output_type": "stream",
     "text": [
      "+------------------+-------+\n",
      "|       Word       | Count |\n",
      "+------------------+-------+\n",
      "|        RT        |  246  |\n",
      "|       the        |  173  |\n",
      "|        a         |  112  |\n",
      "|       for        |   90  |\n",
      "| #SaturdayMorning |   86  |\n",
      "|        in        |   83  |\n",
      "|        to        |   67  |\n",
      "|        of        |   65  |\n",
      "|        we        |   58  |\n",
      "|     Mueller      |   57  |\n",
      "|        He        |   52  |\n",
      "|    @tedlieu:     |   43  |\n",
      "|      While       |   43  |\n",
      "|       wait       |   43  |\n",
      "|     contents     |   43  |\n",
      "|     report,      |   43  |\n",
      "|      here's      |   43  |\n",
      "|      other       |   43  |\n",
      "|      news.       |   43  |\n",
      "|        N         |   43  |\n",
      "|      Korea       |   43  |\n",
      "|       HAS        |   43  |\n",
      "|       NOT:       |   43  |\n",
      "|   -Eliminated    |   43  |\n",
      "|      single      |   43  |\n",
      "|       nuke       |   43  |\n",
      "|    -Eliminat…    |   43  |\n",
      "|      wasn't      |   39  |\n",
      "|       this       |   37  |\n",
      "|       you        |   37  |\n",
      "+------------------+-------+\n"
     ]
    }
   ],
   "source": [
    "import operator \n",
    "import json\n",
    "from collections import Counter\n",
    "from prettytable import PrettyTable\n",
    "\n",
    "# Read in the tweet data\n",
    "with open('twitterData.json') as file:\n",
    "    twitterData = json.loads(file.read())\n",
    "\n",
    "# Obtain the texts of the tweets\n",
    "statusTexts = [status.get('text') \n",
    "                for status in twitterData]\n",
    "\n",
    "# Obtain list of all the words in the twitter statuses\n",
    "words = [w \n",
    "         for t in statusTexts \n",
    "             for w in t.split()]\n",
    "\n",
    "# Pass our words to a Counter\n",
    "counter = Counter(words) \n",
    "  \n",
    "# Get the most common words\n",
    "mostCommonWords = counter.most_common(30)\n",
    "\n",
    "# Print our data to a nice table\n",
    "table = PrettyTable()\n",
    "table.field_names = [\"Word\", \"Count\"]\n",
    "\n",
    "for t in mostCommonWords:\n",
    "    table.add_row([t[0], t[1]])\n",
    "\n",
    "print(table)"
   ]
  },
  {
   "cell_type": "markdown",
   "metadata": {},
   "source": [
    "** (2) Find the most popular tweets in your collection of tweets**\n",
    "\n",
    "Please plot a table of the top 10 most-retweeted tweets in your collection, i.e., the tweets with the largest number of retweet counts.\n"
   ]
  },
  {
   "cell_type": "code",
   "execution_count": 26,
   "metadata": {},
   "outputs": [
    {
     "name": "stdout",
     "output_type": "stream",
     "text": [
      "+----------+---------------------------------------------------------------------------------------+\n",
      "| Retweets |                                         Tweet                                         |\n",
      "+----------+---------------------------------------------------------------------------------------+\n",
      "|   4741   | RT @tedlieu: While we wait for the contents of the Mueller report, here's other news. |\n",
      "|          |                                                                                       |\n",
      "|          |                                    N Korea HAS NOT:                                   |\n",
      "|          |                               -Eliminated a single nuke                               |\n",
      "|          |                                       -Eliminat…                                      |\n",
      "|   4741   | RT @tedlieu: While we wait for the contents of the Mueller report, here's other news. |\n",
      "|          |                                                                                       |\n",
      "|          |                                    N Korea HAS NOT:                                   |\n",
      "|          |                               -Eliminated a single nuke                               |\n",
      "|          |                                       -Eliminat…                                      |\n",
      "|   4741   | RT @tedlieu: While we wait for the contents of the Mueller report, here's other news. |\n",
      "|          |                                                                                       |\n",
      "|          |                                    N Korea HAS NOT:                                   |\n",
      "|          |                               -Eliminated a single nuke                               |\n",
      "|          |                                       -Eliminat…                                      |\n",
      "|   4741   | RT @tedlieu: While we wait for the contents of the Mueller report, here's other news. |\n",
      "|          |                                                                                       |\n",
      "|          |                                    N Korea HAS NOT:                                   |\n",
      "|          |                               -Eliminated a single nuke                               |\n",
      "|          |                                       -Eliminat…                                      |\n",
      "|   4741   | RT @tedlieu: While we wait for the contents of the Mueller report, here's other news. |\n",
      "|          |                                                                                       |\n",
      "|          |                                    N Korea HAS NOT:                                   |\n",
      "|          |                               -Eliminated a single nuke                               |\n",
      "|          |                                       -Eliminat…                                      |\n",
      "|   4741   | RT @tedlieu: While we wait for the contents of the Mueller report, here's other news. |\n",
      "|          |                                                                                       |\n",
      "|          |                                    N Korea HAS NOT:                                   |\n",
      "|          |                               -Eliminated a single nuke                               |\n",
      "|          |                                       -Eliminat…                                      |\n",
      "|   4741   | RT @tedlieu: While we wait for the contents of the Mueller report, here's other news. |\n",
      "|          |                                                                                       |\n",
      "|          |                                    N Korea HAS NOT:                                   |\n",
      "|          |                               -Eliminated a single nuke                               |\n",
      "|          |                                       -Eliminat…                                      |\n",
      "|   4741   | RT @tedlieu: While we wait for the contents of the Mueller report, here's other news. |\n",
      "|          |                                                                                       |\n",
      "|          |                                    N Korea HAS NOT:                                   |\n",
      "|          |                               -Eliminated a single nuke                               |\n",
      "|          |                                       -Eliminat…                                      |\n",
      "|   4741   | RT @tedlieu: While we wait for the contents of the Mueller report, here's other news. |\n",
      "|          |                                                                                       |\n",
      "|          |                                    N Korea HAS NOT:                                   |\n",
      "|          |                               -Eliminated a single nuke                               |\n",
      "|          |                                       -Eliminat…                                      |\n",
      "|   4741   | RT @tedlieu: While we wait for the contents of the Mueller report, here's other news. |\n",
      "|          |                                                                                       |\n",
      "|          |                                    N Korea HAS NOT:                                   |\n",
      "|          |                               -Eliminated a single nuke                               |\n",
      "|          |                                       -Eliminat…                                      |\n",
      "+----------+---------------------------------------------------------------------------------------+\n"
     ]
    }
   ],
   "source": [
    "from operator import itemgetter\n",
    "\n",
    "retweetData = []\n",
    "\n",
    "for curr in data:\n",
    "    tweet = curr.get('text')\n",
    "    retweets = int(curr.get('retweet_count'))\n",
    "    retweetData.append({\"retweets\": retweets, \"tweet\": tweet})\n",
    "\n",
    "sortedDecending = sorted(retweetData, key=itemgetter(\"retweets\"), reverse=True) # sort in descending order\n",
    "\n",
    "# Print our data to a nice table\n",
    "table = PrettyTable()\n",
    "table.field_names = [\"Retweets\", \"Tweet\"]\n",
    "\n",
    "for t in sortedDecending[:10]:\n",
    "    table.add_row([t[\"retweets\"], t[\"tweet\"]])\n",
    "\n",
    "print(table)\n"
   ]
  },
  {
   "cell_type": "markdown",
   "metadata": {},
   "source": [
    "**(3) Find the most popular Tweet Entities in your collection of tweets**\n",
    "\n",
    "Please plot the top 10 most-frequent hashtags and top 10 most-mentioned users in your collection of tweets."
   ]
  },
  {
   "cell_type": "code",
   "execution_count": 46,
   "metadata": {},
   "outputs": [
    {
     "name": "stdout",
     "output_type": "stream",
     "text": [
      "+-----------------------+-------+\n",
      "|  Most Common Hashtags | Count |\n",
      "+-----------------------+-------+\n",
      "|    SaturdayMorning    |   88  |\n",
      "|    SaturdayThoughts   |   33  |\n",
      "|          MAGA         |   9   |\n",
      "|         Police        |   9   |\n",
      "| inaworldwithnotwitter |   9   |\n",
      "|     MuellerReport     |   8   |\n",
      "|       IlhanOmar       |   8   |\n",
      "|          Tcot         |   8   |\n",
      "|          Ccot         |   8   |\n",
      "|         Trump         |   8   |\n",
      "+-----------------------+-------+\n",
      "+----------------------+-------+\n",
      "| Most Mentioned Users | Count |\n",
      "+----------------------+-------+\n",
      "|       tedlieu        |   43  |\n",
      "|    MadonnaMadsen     |   30  |\n",
      "|     ScottPresler     |   15  |\n",
      "|     ArchKennedy      |   15  |\n",
      "|        kharyp        |   15  |\n",
      "|     BarackObama      |   15  |\n",
      "|       TomHall        |   14  |\n",
      "|    johnpavlovitz     |   13  |\n",
      "|       Tombx7M        |   8   |\n",
      "|    mikandynothem     |   7   |\n",
      "+----------------------+-------+\n"
     ]
    }
   ],
   "source": [
    "from collections import Counter\n",
    "\n",
    "hashtags = [hashtag.get('text')\n",
    "            for status in twitterData\n",
    "                for hashtag in status.get('entities').get('hashtags')]\n",
    "\n",
    "userMentions = [userMention.get('screen_name')\n",
    "                for status in twitterData\n",
    "                    for userMention in status.get('entities').get('user_mentions')]\n",
    "\n",
    "mostCommonHashtags = Counter(hashtags).most_common(10)\n",
    "mostMentionedUsers = Counter(userMentions).most_common(10)\n",
    "\n",
    "# Print our hashtag data to a nice table\n",
    "hashtagTable = PrettyTable()\n",
    "hashtagTable.field_names = [\"Most Common Hashtags\", \"Count\"]\n",
    "\n",
    "for t in mostCommonHashtags[:10]:\n",
    "    hashtagTable.add_row([t[0], t[1]])\n",
    "\n",
    "print(hashtagTable)\n",
    "\n",
    "# Print our user data to a nice table\n",
    "mentionedUserTable = PrettyTable()\n",
    "mentionedUserTable.field_names = [\"Most Mentioned Users\", \"Count\"]\n",
    "\n",
    "for t in mostMentionedUsers[:10]:\n",
    "    mentionedUserTable.add_row([t[0], t[1]])\n",
    "\n",
    "print(mentionedUserTable)"
   ]
  },
  {
   "cell_type": "markdown",
   "metadata": {},
   "source": [
    "Plot a histogram of the number of user mentions in the list using the following bins."
   ]
  },
  {
   "cell_type": "code",
   "execution_count": 92,
   "metadata": {},
   "outputs": [
    {
     "data": {
      "image/png": "[encoded data removed]",
      "text/plain": [
       "<Figure size 432x288 with 1 Axes>"
      ]
     },
     "metadata": {
      "needs_background": "light"
     },
     "output_type": "display_data"
    }
   ],
   "source": [
    "import matplotlib.pyplot as plt\n",
    "\n",
    "bins=[0, 10, 20, 30, 40, 50, 100]\n",
    "\n",
    "for data in ('User Mentions', userMentions):\n",
    "    userMentionCounter = Counter(data)\n",
    "    plt.hist(list(userMentionCounter.values()), bins)\n",
    "    \n",
    "    # Add a title and axis labels\n",
    "    plt.title(label)\n",
    "    plt.ylabel(\"Number of items in bin\")\n",
    "    plt.xlabel(\"Bins (number of times an item appeared)\")\n"
   ]
  },
  {
   "cell_type": "markdown",
   "metadata": {},
   "source": [
    "\n",
    " ** (optional task for fun) Getting \"All\" friends (followees) and \"All\" followers of a popular user in the tweets**"
   ]
  },
  {
   "cell_type": "markdown",
   "metadata": {},
   "source": [
    "* choose a popular twitter user who has many followers in your collection of tweets.\n",
    "* Get the list of all friends and all followers of the twitter user.\n",
    "* Plot 20 out of the followers, plot their ID numbers and screen names in a table.\n",
    "* Plot 20 out of the friends (if the user has more than 20 friends), plot their ID numbers and screen names in a table."
   ]
  },
  {
   "cell_type": "code",
   "execution_count": 35,
   "metadata": {},
   "outputs": [],
   "source": [
    "# Your code starts here\n",
    "#   Please add comments or text cells in between to explain the general idea of each block of the code.\n",
    "#   Please feel free to add more cells below this cell if necessary\n",
    "\n",
    "\n",
    "\n",
    "\n",
    "\n"
   ]
  },
  {
   "cell_type": "markdown",
   "metadata": {},
   "source": [
    "*-----------------\n",
    "# Done\n",
    "\n",
    "All set! \n",
    "\n",
    "** What do you need to submit?**\n",
    "\n",
    "* **Notebook File**: Save this Jupyter notebook, and find the notebook file in your folder (for example, \"filename.ipynb\"). This is the file you need to submit. Please make sure all the plotted tables and figures are in the notebook.\n",
    "\n",
    "** How to submit: **\n",
    "\n",
    "        Please submit through Canvas, in the Assignment \"HW1\".\n",
    "        "
   ]
  }
 ],
 "metadata": {
  "anaconda-cloud": {},
  "kernelspec": {
   "display_name": "Python 3",
   "language": "python",
   "name": "python3"
  },
  "language_info": {
   "codemirror_mode": {
    "name": "ipython",
    "version": 3
   },
   "file_extension": ".py",
   "mimetype": "text/x-python",
   "name": "python",
   "nbconvert_exporter": "python",
   "pygments_lexer": "ipython3",
   "version": "3.7.2"
  }
 },
 "nbformat": 4,
 "nbformat_minor": 1
}
